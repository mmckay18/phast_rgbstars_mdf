{
 "cells": [
  {
   "cell_type": "code",
   "execution_count": 1,
   "metadata": {},
   "outputs": [],
   "source": [
    "import os\n",
    "import matplotlib.pyplot as plt\n",
    "import numpy as np\n",
    "import seaborn as sns\n",
    "import plotly.express as px\n",
    "import plotly.graph_objects as go\n",
    "import plotly.subplots as sp\n",
    "import glob\n",
    "import plotly.io as pio\n",
    "import itertools\n",
    "from scipy.interpolate import interp1d\n",
    "\n",
    "os.chdir('/Users/mmckay/phd_projects/analysis_routine/code/photometry_fns')\n",
    "from isochrone_preprocessing_fns import *\n",
    "from photmetry_catalog_preprocessing_fn import *\n",
    "from plotting_fns import *\n",
    "from tqdm import tqdm\n",
    "\n",
    "\n",
    "# Directories\n",
    "# /Users/mmckay/phd_projects/analysis_routine/DATA/4GYRS_RGB_AGB_isochrones/RGB/interpolated_phast_rgb_catalog.csv\n",
    "WORK_DIR = '/Users/mmckay/phd_projects/analysis_routine/DATA/4GYRS_RGB_AGB_isochrones/'\n",
    "CMB_TABLE_DIR = '/Users/mmckay/phd_projects/analysis_routine/DATA/CMD3_7_outputs/4gyr_isochrone_outputs/'\n",
    "# RGB_ISO_DIR = ''\n",
    "FIGURE_DIR = '/Users/mmckay/phd_projects/analysis_routine/FIGURES'"
   ]
  },
  {
   "cell_type": "code",
   "execution_count": 4,
   "metadata": {},
   "outputs": [],
   "source": [
    "def series_to_array(df):\n",
    "    # Convert the object to numpy array before indexing\n",
    "    f475w_f814w_ecorr = np.array(df[\"f475w-f814w_ecorr\"])\n",
    "    f814w_vega_ecorr = np.array(df[\"f814w_vega_ecorr\"])\n",
    "    z_col_arr = np.array(df['interpolated_MH'])\n",
    "    ra = np.array(df[\"ra\"])\n",
    "    dec = np.array(df[\"dec\"])\n",
    "\n",
    "    # Sort dataframe by Mini\n",
    "    \n",
    "\n",
    "    return f475w_f814w_ecorr, f814w_vega_ecorr, z_col_arr, ra, dec\n",
    "\n",
    "def plot_catalog_CMD_and_Model_iso(catalog_df, rgb_selection_df, save_file):\n",
    "    fig, axs = plt.subplots(1, 2, figsize=(25, 8), sharey=True, sharex=True)\n",
    "\n",
    "    f475w_f814w_ecorr, f814w_vega_ecorr, z_col_arr, ra, dec = series_to_array(catalog_df)\n",
    "    sns.kdeplot(\n",
    "        x=f475w_f814w_ecorr,\n",
    "        y=f814w_vega_ecorr,\n",
    "        zorder=0,\n",
    "        n_levels=10,\n",
    "        thresh=0.01,\n",
    "        fill=True,\n",
    "        cbar=False,\n",
    "        color=\"black\",\n",
    "        ax=axs[0],\n",
    "    )\n",
    "\n",
    "    f475w_f814w_ecorr, f814w_vega_ecorr, z_col_arr, ra, dec = series_to_array(rgb_selection_df)\n",
    "    sns.kdeplot(\n",
    "        x=f475w_f814w_ecorr,\n",
    "        y=f814w_vega_ecorr,\n",
    "        zorder=0,\n",
    "        n_levels=10,\n",
    "        thresh=0.01,\n",
    "        fill=True,\n",
    "        cbar=False,\n",
    "        color=\"black\",\n",
    "        ax=axs[1],\n",
    "    )\n",
    "\n",
    "\n",
    "    for i in [axs[0], axs[1]]:\n",
    "        # Zini_list = [0.0599, 0.03, 0.0152, 0.0001]\n",
    "        MH_list = [0.6, 0.0, -0.58, -1.89]\n",
    "        colors = ['darkred', 'black', 'orange', 'blue']\n",
    "        # for Zini, color in zip(Zini_list, itertools.cycle(colors)):\n",
    "        for mh, color in zip(MH_list, itertools.cycle(colors)):\n",
    "            # Zini =  0.0152 # Gregersen et al 2015\n",
    "            # Plot CMD with isochrone\n",
    "            print(mh)\n",
    "            isochrone_df = pd.read_csv('/Users/mmckay/phd_projects/analysis_routine/DATA/4GYRS_RGB_AGB_isochrones/RGB/RGB_isochrone_table.csv')\n",
    "            # isochrone_df = isochrone_df[isochrone_df[\"Zini\"] == Zini]\n",
    "            isochrone_df = isochrone_df[isochrone_df[\"MH\"].round(2) == mh]\n",
    "            # print(isochrone_df.head())\n",
    "            if not isochrone_df.empty:\n",
    "                sns.lineplot(\n",
    "                    x=\"F475W_appmag-F814W_appmag\",\n",
    "                    y=\"F814W_appmag\",\n",
    "                    data=isochrone_df,\n",
    "                    ax=i,\n",
    "                    zorder=1,\n",
    "                    color=color,\n",
    "                    # s=20,\n",
    "                    # label=f\"Zini={Zini}\",\n",
    "                    label=f\"log(M/H)={mh}\",\n",
    "                    sort = True,\n",
    "                    linewidth=7,\n",
    "                    # marker=True\n",
    "                )\n",
    "            else:\n",
    "                print(\"dataframe is empty\")\n",
    "\n",
    "        # Set outer boundary\n",
    "        x = [1.5, 2.8, 4, 5, 6, 7]\n",
    "        y = [23, 23, 21.75, 21.4, 21.25, 21.1]\n",
    "        # Create an interpolation function\n",
    "        interp_func = interp1d(x, y, bounds_error=False, fill_value=\"extrapolate\")\n",
    "        # Interpolate x and y values\n",
    "        x_interp = np.linspace(min(x), max(x), 1000)\n",
    "        y_interp = interp_func(x_interp)\n",
    "\n",
    "        # Set inner boundary\n",
    "        x1 = [1.5, 1.6, 1.8]\n",
    "        y1 = [23, 21.7, 20.3]\n",
    "        interp_func1 = interp1d(x1, y1, bounds_error=False, fill_value=\"extrapolate\")\n",
    "        x1_interp = np.linspace(min(x1), max(x1), 1000)\n",
    "        y1_interp = interp_func1(x1_interp)\n",
    "\n",
    "        x2 = [7, 6, 5, 4, 2.8, 1.8]\n",
    "        y2 = [21.1, 20.7, 20.25, 20.15, 20.1, 20.3]\n",
    "        interp_func2 = interp1d(x2, y2, bounds_error=False, fill_value=\"extrapolate\")\n",
    "        x2_interp = np.linspace(min(x2), max(x2), 1000)\n",
    "        y2_interp = interp_func2(x2_interp)\n",
    "\n",
    "        i.plot(x_interp, y_interp, color=\"black\", linestyle=\"-\", linewidth=1)\n",
    "        i.plot(x1_interp, y1_interp, color=\"black\", linestyle=\"-\", linewidth=1)\n",
    "        i.plot(x2_interp, y2_interp, color=\"black\", linestyle=\"-\", linewidth=1)\n",
    "        \n",
    "        i.set_xlabel(r\"$F475W_{0}-F814W_{0}$\", fontsize=35)\n",
    "        i.set_ylabel(r\"$F814W_{0}$\", fontsize=35)\n",
    "        i.tick_params(axis='x', labelsize=25)\n",
    "        i.tick_params(axis='y', labelsize=25)\n",
    "\n",
    "\n",
    "    # axs[0].set_xlabel(\"F475W-F814W\")\n",
    "    # axs[0].set_ylabel(\"F814W\")\n",
    "    axs[0].set_title(f\"Complete Catalog: Color-Magnitude Diagram N={len(f475w_f814w_ecorr)}\", fontsize=25)\n",
    "    axs[1].set_title(f\"RGB Selection: Color-Magnitude Diagram N={len(f475w_f814w_ecorr)}\", fontsize=25)\n",
    "    axs[0].legend(fontsize=20)\n",
    "    axs[1].legend(fontsize=20)\n",
    "    axs[1].invert_yaxis()\n",
    "\n",
    "    plt.tight_layout()\n",
    "    plt.savefig(FIGURE_DIR+'/'+save_file, dpi=300, bbox_inches=\"tight\")\n",
    "    plt.show()"
   ]
  },
  {
   "cell_type": "markdown",
   "metadata": {},
   "source": [
    "### Process the "
   ]
  },
  {
   "cell_type": "code",
   "execution_count": 10,
   "metadata": {},
   "outputs": [],
   "source": [
    "\n",
    "\n",
    "all_isochrone_df = read_sort_isochrone_table(filename=CMB_TABLE_DIR+'output901257569509.dat', \n",
    "                                            output_dir=WORK_DIR)\n",
    "\n",
    "all_isochrone_df = read_sort_isochrone_table(filename=CMB_TABLE_DIR+'output458449038052.dat',\n",
    "                                            output_dir=WORK_DIR )\n",
    "\n",
    "rgb_isochrone_df = isochrone_rgb_selection(isochrone_dirpath=WORK_DIR,\n",
    "                                            output_dir=WORK_DIR)"
   ]
  },
  {
   "cell_type": "code",
   "execution_count": 2,
   "metadata": {},
   "outputs": [
    {
     "name": "stderr",
     "output_type": "stream",
     "text": [
      "Processing file: 99218line [01:19, 1241.75line/s]\n"
     ]
    },
    {
     "name": "stdout",
     "output_type": "stream",
     "text": [
      "Merged Dataframe Complete\n"
     ]
    }
   ],
   "source": [
    "# all_isochrone_df = read_sort_isochrone_table(filename=CMB_TABLE_DIR+'output901257569509.dat', \n",
    "#                                             output_dir=WORK_DIR)"
   ]
  },
  {
   "cell_type": "code",
   "execution_count": 3,
   "metadata": {},
   "outputs": [
    {
     "name": "stderr",
     "output_type": "stream",
     "text": [
      "Processing file: 103488line [01:26, 1198.72line/s]\n"
     ]
    },
    {
     "name": "stdout",
     "output_type": "stream",
     "text": [
      "Merged Dataframe Complete\n"
     ]
    }
   ],
   "source": [
    "# all_isochrone_df = read_sort_isochrone_table(filename=CMB_TABLE_DIR+'output458449038052.dat',\n",
    "#                                             output_dir=WORK_DIR )"
   ]
  },
  {
   "cell_type": "code",
   "execution_count": 11,
   "metadata": {},
   "outputs": [],
   "source": [
    "# rgb_isochrone_df = isochrone_rgb_selection(isochrone_dirpath=WORK_DIR,\n",
    "#                                             output_dir=WORK_DIR)"
   ]
  },
  {
   "cell_type": "code",
   "execution_count": 7,
   "metadata": {},
   "outputs": [
    {
     "data": {
      "application/vnd.plotly.v1+json": {
       "config": {
        "plotlyServerURL": "https://plot.ly"
       },
       "data": [
        {
         "mode": "markers",
         "name": "df1",
         "type": "scatter",
         "x": [
          1.3379999999999974,
          1.3510000000000026,
          1.3640000000000008,
          1.378,
          1.3919999999999997,
          1.400000000000002,
          1.393000000000001,
          1.381999999999998,
          1.3789999999999978,
          1.3829999999999991,
          1.397000000000002,
          1.4109999999999978,
          1.426000000000002,
          1.440999999999999,
          1.4569999999999972,
          1.4720000000000013,
          1.4879999999999995,
          1.5040000000000011,
          1.5229999999999997,
          1.5410000000000004,
          1.5589999999999975,
          1.581000000000003,
          1.6000000000000014,
          1.6199999999999974,
          1.6419999999999997,
          1.6679999999999993,
          1.6900000000000013,
          1.7190000000000012,
          1.7420000000000009,
          1.775000000000002,
          1.8059999999999972,
          1.838000000000001
         ],
         "xaxis": "x",
         "y": [
          22.978,
          22.871,
          22.761,
          22.656,
          22.552,
          22.493,
          22.54,
          22.61,
          22.628,
          22.599,
          22.498,
          22.396,
          22.297,
          22.198,
          22.099,
          22.004,
          21.909,
          21.812,
          21.718,
          21.622,
          21.533,
          21.44,
          21.351,
          21.262,
          21.173,
          21.066,
          20.98,
          20.876,
          20.793,
          20.693,
          20.597,
          20.51
         ],
         "yaxis": "y"
        },
        {
         "mode": "markers",
         "name": "df2",
         "type": "scatter",
         "x": [
          2.3550000000000004,
          2.3969999999999985,
          2.437000000000001,
          2.4810000000000016,
          2.530999999999999,
          2.580000000000002,
          2.629999999999999,
          2.686,
          2.7459999999999987,
          2.808,
          2.869,
          2.9369999999999976,
          3.0159999999999982,
          3.093,
          3.1739999999999995,
          3.267000000000003,
          3.3669999999999973,
          3.4959999999999987,
          3.623999999999999,
          3.767,
          3.916,
          4.061,
          4.216999999999999,
          4.381,
          4.545999999999999,
          4.692,
          4.841999999999999,
          4.992000000000001,
          5.0909999999999975,
          5.177,
          5.206
         ],
         "xaxis": "x2",
         "y": [
          22.959,
          22.863,
          22.769,
          22.678,
          22.587,
          22.498,
          22.41,
          22.325,
          22.243,
          22.161,
          22.083,
          22.009,
          21.939,
          21.872,
          21.805,
          21.748,
          21.701,
          21.642,
          21.591,
          21.566,
          21.543,
          21.524,
          21.54,
          21.56,
          21.584,
          21.627,
          21.677,
          21.732,
          21.765,
          21.798,
          21.81
         ],
         "yaxis": "y2"
        },
        {
         "mode": "markers",
         "name": "df3",
         "type": "scatter",
         "x": [
          2.6930000000000014,
          2.7479999999999976,
          2.8150000000000013,
          2.879999999999999,
          2.946999999999999,
          3.0180000000000007,
          3.1040000000000028,
          3.187000000000001,
          3.272000000000002,
          3.360999999999997,
          3.4919999999999973,
          3.623999999999999,
          3.7609999999999992,
          3.907,
          4.054000000000002,
          4.204999999999998,
          4.354999999999997,
          4.506,
          4.661999999999999,
          4.788,
          4.920999999999999,
          5.058000000000003,
          5.129999999999999,
          5.205000000000002,
          5.279999999999998,
          5.327999999999999,
          5.373999999999999,
          5.417999999999999,
          5.434000000000001
         ],
         "xaxis": "x3",
         "y": [
          22.968,
          22.881,
          22.8,
          22.722,
          22.643,
          22.568,
          22.504,
          22.441,
          22.377,
          22.323,
          22.274,
          22.228,
          22.188,
          22.179,
          22.172,
          22.17,
          22.207,
          22.246,
          22.291,
          22.349,
          22.417,
          22.486,
          22.514,
          22.548,
          22.588,
          22.579,
          22.569,
          22.564,
          22.555
         ],
         "yaxis": "y3"
        }
       ],
       "layout": {
        "annotations": [
         {
          "font": {
           "size": 16
          },
          "showarrow": false,
          "text": "RGB_Zini_0.0001",
          "x": 0.14444444444444446,
          "xanchor": "center",
          "xref": "paper",
          "y": 1,
          "yanchor": "bottom",
          "yref": "paper"
         },
         {
          "font": {
           "size": 16
          },
          "showarrow": false,
          "text": "RGB_Zini_0.03",
          "x": 0.5,
          "xanchor": "center",
          "xref": "paper",
          "y": 1,
          "yanchor": "bottom",
          "yref": "paper"
         },
         {
          "font": {
           "size": 16
          },
          "showarrow": false,
          "text": "RGB_Zini_0.0599",
          "x": 0.8555555555555556,
          "xanchor": "center",
          "xref": "paper",
          "y": 1,
          "yanchor": "bottom",
          "yref": "paper"
         }
        ],
        "height": 700,
        "template": {
         "data": {
          "bar": [
           {
            "error_x": {
             "color": "#2a3f5f"
            },
            "error_y": {
             "color": "#2a3f5f"
            },
            "marker": {
             "line": {
              "color": "#E5ECF6",
              "width": 0.5
             },
             "pattern": {
              "fillmode": "overlay",
              "size": 10,
              "solidity": 0.2
             }
            },
            "type": "bar"
           }
          ],
          "barpolar": [
           {
            "marker": {
             "line": {
              "color": "#E5ECF6",
              "width": 0.5
             },
             "pattern": {
              "fillmode": "overlay",
              "size": 10,
              "solidity": 0.2
             }
            },
            "type": "barpolar"
           }
          ],
          "carpet": [
           {
            "aaxis": {
             "endlinecolor": "#2a3f5f",
             "gridcolor": "white",
             "linecolor": "white",
             "minorgridcolor": "white",
             "startlinecolor": "#2a3f5f"
            },
            "baxis": {
             "endlinecolor": "#2a3f5f",
             "gridcolor": "white",
             "linecolor": "white",
             "minorgridcolor": "white",
             "startlinecolor": "#2a3f5f"
            },
            "type": "carpet"
           }
          ],
          "choropleth": [
           {
            "colorbar": {
             "outlinewidth": 0,
             "ticks": ""
            },
            "type": "choropleth"
           }
          ],
          "contour": [
           {
            "colorbar": {
             "outlinewidth": 0,
             "ticks": ""
            },
            "colorscale": [
             [
              0,
              "#0d0887"
             ],
             [
              0.1111111111111111,
              "#46039f"
             ],
             [
              0.2222222222222222,
              "#7201a8"
             ],
             [
              0.3333333333333333,
              "#9c179e"
             ],
             [
              0.4444444444444444,
              "#bd3786"
             ],
             [
              0.5555555555555556,
              "#d8576b"
             ],
             [
              0.6666666666666666,
              "#ed7953"
             ],
             [
              0.7777777777777778,
              "#fb9f3a"
             ],
             [
              0.8888888888888888,
              "#fdca26"
             ],
             [
              1,
              "#f0f921"
             ]
            ],
            "type": "contour"
           }
          ],
          "contourcarpet": [
           {
            "colorbar": {
             "outlinewidth": 0,
             "ticks": ""
            },
            "type": "contourcarpet"
           }
          ],
          "heatmap": [
           {
            "colorbar": {
             "outlinewidth": 0,
             "ticks": ""
            },
            "colorscale": [
             [
              0,
              "#0d0887"
             ],
             [
              0.1111111111111111,
              "#46039f"
             ],
             [
              0.2222222222222222,
              "#7201a8"
             ],
             [
              0.3333333333333333,
              "#9c179e"
             ],
             [
              0.4444444444444444,
              "#bd3786"
             ],
             [
              0.5555555555555556,
              "#d8576b"
             ],
             [
              0.6666666666666666,
              "#ed7953"
             ],
             [
              0.7777777777777778,
              "#fb9f3a"
             ],
             [
              0.8888888888888888,
              "#fdca26"
             ],
             [
              1,
              "#f0f921"
             ]
            ],
            "type": "heatmap"
           }
          ],
          "heatmapgl": [
           {
            "colorbar": {
             "outlinewidth": 0,
             "ticks": ""
            },
            "colorscale": [
             [
              0,
              "#0d0887"
             ],
             [
              0.1111111111111111,
              "#46039f"
             ],
             [
              0.2222222222222222,
              "#7201a8"
             ],
             [
              0.3333333333333333,
              "#9c179e"
             ],
             [
              0.4444444444444444,
              "#bd3786"
             ],
             [
              0.5555555555555556,
              "#d8576b"
             ],
             [
              0.6666666666666666,
              "#ed7953"
             ],
             [
              0.7777777777777778,
              "#fb9f3a"
             ],
             [
              0.8888888888888888,
              "#fdca26"
             ],
             [
              1,
              "#f0f921"
             ]
            ],
            "type": "heatmapgl"
           }
          ],
          "histogram": [
           {
            "marker": {
             "pattern": {
              "fillmode": "overlay",
              "size": 10,
              "solidity": 0.2
             }
            },
            "type": "histogram"
           }
          ],
          "histogram2d": [
           {
            "colorbar": {
             "outlinewidth": 0,
             "ticks": ""
            },
            "colorscale": [
             [
              0,
              "#0d0887"
             ],
             [
              0.1111111111111111,
              "#46039f"
             ],
             [
              0.2222222222222222,
              "#7201a8"
             ],
             [
              0.3333333333333333,
              "#9c179e"
             ],
             [
              0.4444444444444444,
              "#bd3786"
             ],
             [
              0.5555555555555556,
              "#d8576b"
             ],
             [
              0.6666666666666666,
              "#ed7953"
             ],
             [
              0.7777777777777778,
              "#fb9f3a"
             ],
             [
              0.8888888888888888,
              "#fdca26"
             ],
             [
              1,
              "#f0f921"
             ]
            ],
            "type": "histogram2d"
           }
          ],
          "histogram2dcontour": [
           {
            "colorbar": {
             "outlinewidth": 0,
             "ticks": ""
            },
            "colorscale": [
             [
              0,
              "#0d0887"
             ],
             [
              0.1111111111111111,
              "#46039f"
             ],
             [
              0.2222222222222222,
              "#7201a8"
             ],
             [
              0.3333333333333333,
              "#9c179e"
             ],
             [
              0.4444444444444444,
              "#bd3786"
             ],
             [
              0.5555555555555556,
              "#d8576b"
             ],
             [
              0.6666666666666666,
              "#ed7953"
             ],
             [
              0.7777777777777778,
              "#fb9f3a"
             ],
             [
              0.8888888888888888,
              "#fdca26"
             ],
             [
              1,
              "#f0f921"
             ]
            ],
            "type": "histogram2dcontour"
           }
          ],
          "mesh3d": [
           {
            "colorbar": {
             "outlinewidth": 0,
             "ticks": ""
            },
            "type": "mesh3d"
           }
          ],
          "parcoords": [
           {
            "line": {
             "colorbar": {
              "outlinewidth": 0,
              "ticks": ""
             }
            },
            "type": "parcoords"
           }
          ],
          "pie": [
           {
            "automargin": true,
            "type": "pie"
           }
          ],
          "scatter": [
           {
            "marker": {
             "colorbar": {
              "outlinewidth": 0,
              "ticks": ""
             }
            },
            "type": "scatter"
           }
          ],
          "scatter3d": [
           {
            "line": {
             "colorbar": {
              "outlinewidth": 0,
              "ticks": ""
             }
            },
            "marker": {
             "colorbar": {
              "outlinewidth": 0,
              "ticks": ""
             }
            },
            "type": "scatter3d"
           }
          ],
          "scattercarpet": [
           {
            "marker": {
             "colorbar": {
              "outlinewidth": 0,
              "ticks": ""
             }
            },
            "type": "scattercarpet"
           }
          ],
          "scattergeo": [
           {
            "marker": {
             "colorbar": {
              "outlinewidth": 0,
              "ticks": ""
             }
            },
            "type": "scattergeo"
           }
          ],
          "scattergl": [
           {
            "marker": {
             "colorbar": {
              "outlinewidth": 0,
              "ticks": ""
             }
            },
            "type": "scattergl"
           }
          ],
          "scattermapbox": [
           {
            "marker": {
             "colorbar": {
              "outlinewidth": 0,
              "ticks": ""
             }
            },
            "type": "scattermapbox"
           }
          ],
          "scatterpolar": [
           {
            "marker": {
             "colorbar": {
              "outlinewidth": 0,
              "ticks": ""
             }
            },
            "type": "scatterpolar"
           }
          ],
          "scatterpolargl": [
           {
            "marker": {
             "colorbar": {
              "outlinewidth": 0,
              "ticks": ""
             }
            },
            "type": "scatterpolargl"
           }
          ],
          "scatterternary": [
           {
            "marker": {
             "colorbar": {
              "outlinewidth": 0,
              "ticks": ""
             }
            },
            "type": "scatterternary"
           }
          ],
          "surface": [
           {
            "colorbar": {
             "outlinewidth": 0,
             "ticks": ""
            },
            "colorscale": [
             [
              0,
              "#0d0887"
             ],
             [
              0.1111111111111111,
              "#46039f"
             ],
             [
              0.2222222222222222,
              "#7201a8"
             ],
             [
              0.3333333333333333,
              "#9c179e"
             ],
             [
              0.4444444444444444,
              "#bd3786"
             ],
             [
              0.5555555555555556,
              "#d8576b"
             ],
             [
              0.6666666666666666,
              "#ed7953"
             ],
             [
              0.7777777777777778,
              "#fb9f3a"
             ],
             [
              0.8888888888888888,
              "#fdca26"
             ],
             [
              1,
              "#f0f921"
             ]
            ],
            "type": "surface"
           }
          ],
          "table": [
           {
            "cells": {
             "fill": {
              "color": "#EBF0F8"
             },
             "line": {
              "color": "white"
             }
            },
            "header": {
             "fill": {
              "color": "#C8D4E3"
             },
             "line": {
              "color": "white"
             }
            },
            "type": "table"
           }
          ]
         },
         "layout": {
          "annotationdefaults": {
           "arrowcolor": "#2a3f5f",
           "arrowhead": 0,
           "arrowwidth": 1
          },
          "autotypenumbers": "strict",
          "coloraxis": {
           "colorbar": {
            "outlinewidth": 0,
            "ticks": ""
           }
          },
          "colorscale": {
           "diverging": [
            [
             0,
             "#8e0152"
            ],
            [
             0.1,
             "#c51b7d"
            ],
            [
             0.2,
             "#de77ae"
            ],
            [
             0.3,
             "#f1b6da"
            ],
            [
             0.4,
             "#fde0ef"
            ],
            [
             0.5,
             "#f7f7f7"
            ],
            [
             0.6,
             "#e6f5d0"
            ],
            [
             0.7,
             "#b8e186"
            ],
            [
             0.8,
             "#7fbc41"
            ],
            [
             0.9,
             "#4d9221"
            ],
            [
             1,
             "#276419"
            ]
           ],
           "sequential": [
            [
             0,
             "#0d0887"
            ],
            [
             0.1111111111111111,
             "#46039f"
            ],
            [
             0.2222222222222222,
             "#7201a8"
            ],
            [
             0.3333333333333333,
             "#9c179e"
            ],
            [
             0.4444444444444444,
             "#bd3786"
            ],
            [
             0.5555555555555556,
             "#d8576b"
            ],
            [
             0.6666666666666666,
             "#ed7953"
            ],
            [
             0.7777777777777778,
             "#fb9f3a"
            ],
            [
             0.8888888888888888,
             "#fdca26"
            ],
            [
             1,
             "#f0f921"
            ]
           ],
           "sequentialminus": [
            [
             0,
             "#0d0887"
            ],
            [
             0.1111111111111111,
             "#46039f"
            ],
            [
             0.2222222222222222,
             "#7201a8"
            ],
            [
             0.3333333333333333,
             "#9c179e"
            ],
            [
             0.4444444444444444,
             "#bd3786"
            ],
            [
             0.5555555555555556,
             "#d8576b"
            ],
            [
             0.6666666666666666,
             "#ed7953"
            ],
            [
             0.7777777777777778,
             "#fb9f3a"
            ],
            [
             0.8888888888888888,
             "#fdca26"
            ],
            [
             1,
             "#f0f921"
            ]
           ]
          },
          "colorway": [
           "#636efa",
           "#EF553B",
           "#00cc96",
           "#ab63fa",
           "#FFA15A",
           "#19d3f3",
           "#FF6692",
           "#B6E880",
           "#FF97FF",
           "#FECB52"
          ],
          "font": {
           "color": "#2a3f5f"
          },
          "geo": {
           "bgcolor": "white",
           "lakecolor": "white",
           "landcolor": "#E5ECF6",
           "showlakes": true,
           "showland": true,
           "subunitcolor": "white"
          },
          "hoverlabel": {
           "align": "left"
          },
          "hovermode": "closest",
          "mapbox": {
           "style": "light"
          },
          "paper_bgcolor": "white",
          "plot_bgcolor": "#E5ECF6",
          "polar": {
           "angularaxis": {
            "gridcolor": "white",
            "linecolor": "white",
            "ticks": ""
           },
           "bgcolor": "#E5ECF6",
           "radialaxis": {
            "gridcolor": "white",
            "linecolor": "white",
            "ticks": ""
           }
          },
          "scene": {
           "xaxis": {
            "backgroundcolor": "#E5ECF6",
            "gridcolor": "white",
            "gridwidth": 2,
            "linecolor": "white",
            "showbackground": true,
            "ticks": "",
            "zerolinecolor": "white"
           },
           "yaxis": {
            "backgroundcolor": "#E5ECF6",
            "gridcolor": "white",
            "gridwidth": 2,
            "linecolor": "white",
            "showbackground": true,
            "ticks": "",
            "zerolinecolor": "white"
           },
           "zaxis": {
            "backgroundcolor": "#E5ECF6",
            "gridcolor": "white",
            "gridwidth": 2,
            "linecolor": "white",
            "showbackground": true,
            "ticks": "",
            "zerolinecolor": "white"
           }
          },
          "shapedefaults": {
           "line": {
            "color": "#2a3f5f"
           }
          },
          "ternary": {
           "aaxis": {
            "gridcolor": "white",
            "linecolor": "white",
            "ticks": ""
           },
           "baxis": {
            "gridcolor": "white",
            "linecolor": "white",
            "ticks": ""
           },
           "bgcolor": "#E5ECF6",
           "caxis": {
            "gridcolor": "white",
            "linecolor": "white",
            "ticks": ""
           }
          },
          "title": {
           "x": 0.05
          },
          "xaxis": {
           "automargin": true,
           "gridcolor": "white",
           "linecolor": "white",
           "ticks": "",
           "title": {
            "standoff": 15
           },
           "zerolinecolor": "white",
           "zerolinewidth": 2
          },
          "yaxis": {
           "automargin": true,
           "gridcolor": "white",
           "linecolor": "white",
           "ticks": "",
           "title": {
            "standoff": 15
           },
           "zerolinecolor": "white",
           "zerolinewidth": 2
          }
         }
        },
        "title": {
         "text": "Isochrone CMDs"
        },
        "width": 1000,
        "xaxis": {
         "anchor": "y",
         "domain": [
          0,
          0.2888888888888889
         ]
        },
        "xaxis2": {
         "anchor": "y2",
         "domain": [
          0.35555555555555557,
          0.6444444444444445
         ]
        },
        "xaxis3": {
         "anchor": "y3",
         "domain": [
          0.7111111111111111,
          1
         ]
        },
        "yaxis": {
         "anchor": "x",
         "autorange": "reversed",
         "domain": [
          0,
          1
         ]
        },
        "yaxis2": {
         "anchor": "x2",
         "autorange": "reversed",
         "domain": [
          0,
          1
         ]
        },
        "yaxis3": {
         "anchor": "x3",
         "autorange": "reversed",
         "domain": [
          0,
          1
         ]
        }
       }
      }
     },
     "metadata": {},
     "output_type": "display_data"
    }
   ],
   "source": [
    "# Making interactive plots with plotly\n",
    "\n",
    "import plotly.express as px\n",
    "import plotly.graph_objects as go\n",
    "import plotly.subplots as sp\n",
    "import pandas as pd\n",
    "\n",
    "\n",
    "df1 = pd.read_csv('/Users/mmckay/phd_projects/analysis_routine/DATA/4GYRS_RGB_AGB_isochrones/RGB/RGB_Zini_0.0001.csv')\n",
    "df2 = pd.read_csv('/Users/mmckay/phd_projects/analysis_routine/DATA/4GYRS_RGB_AGB_isochrones/RGB/RGB_Zini_0.03.csv')\n",
    "df3 = pd.read_csv('/Users/mmckay/phd_projects/analysis_routine/DATA/4GYRS_RGB_AGB_isochrones/RGB/RGB_Zini_0.0599.csv')\n",
    "\n",
    "\n",
    "# Create a subplot with 1 row and 2 columns\n",
    "fig = sp.make_subplots(rows=1, cols=3, subplot_titles=(\"RGB_Zini_0.0001\", \"RGB_Zini_0.03\", \"RGB_Zini_0.0599\",))\n",
    "\n",
    "# Add scatter plot for df1\n",
    "fig.add_trace(go.Scatter(x=df1['F475W_appmag-F814W_appmag'], y=df1['F814W_appmag'], mode='markers', name='df1', \n",
    "                        #  marker=dict(color=df1['Mini'], \n",
    "                        #              colorscale='magma_r', \n",
    "                                    #  colorbar=dict(title='Mini', orientation='h', len=0.45, xanchor=\"right\", yanchor=\"middle\", titleside=\"top\", x=0.4, y=1.1))\n",
    "                         ), \n",
    "                                    row=1, col=1)\n",
    "\n",
    "# Add scatter plot for df2\n",
    "fig.add_trace(go.Scatter(x=df2['F475W_appmag-F814W_appmag'], y=df2['F814W_appmag'], mode='markers', name='df2', \n",
    "                        #  marker=dict(color=df2['Mini'], \n",
    "                        #              colorscale='magma_r', \n",
    "                                    #  colorbar=dict(title='Mini', orientation='h', len=0.45, xanchor=\"left\", yanchor=\"middle\", titleside=\"top\", x=0.6, y=1.1)\n",
    "                         ), \n",
    "                                     row=1, col=2)\n",
    "\n",
    "fig.add_trace(go.Scatter(x=df3['F475W_appmag-F814W_appmag'], y=df3['F814W_appmag'], mode='markers', name='df3', \n",
    "                        #  marker=dict(color=df3['Mini'], \n",
    "                        #              colorscale='magma_r', \n",
    "                                    #  colorbar=dict(title='Mini', orientation='h', len=0.45, xanchor=\"left\", yanchor=\"middle\", titleside=\"top\", x=0.6, y=1.1))\n",
    "                         ), \n",
    "                                     row=1, col=3)\n",
    "\n",
    "# Update layout\n",
    "fig.update_layout(height=700, width=1000, title_text=\"Subplots\", title='Isochrone CMDs')\n",
    "\n",
    "# Inverse y-axes\n",
    "fig.update_yaxes(autorange=\"reversed\")\n",
    "\n",
    "# Show the plot\n",
    "fig.show()"
   ]
  },
  {
   "cell_type": "code",
   "execution_count": 6,
   "metadata": {},
   "outputs": [
    {
     "data": {
      "application/vnd.plotly.v1+json": {
       "config": {
        "plotlyServerURL": "https://plot.ly"
       },
       "data": [
        {
         "mode": "markers",
         "name": "df1",
         "type": "scatter",
         "x": [
          1.3379999999999974,
          1.3510000000000026,
          1.3640000000000008,
          1.378,
          1.3919999999999997,
          1.400000000000002,
          1.393000000000001,
          1.381999999999998,
          1.3789999999999978,
          1.3829999999999991,
          1.397000000000002,
          1.4109999999999978,
          1.426000000000002,
          1.440999999999999,
          1.4569999999999972,
          1.4720000000000013,
          1.4879999999999995,
          1.5040000000000011,
          1.5229999999999997,
          1.5410000000000004,
          1.5589999999999975,
          1.581000000000003,
          1.6000000000000014,
          1.6199999999999974,
          1.6419999999999997,
          1.6679999999999993,
          1.6900000000000013,
          1.7190000000000012,
          1.7420000000000009,
          1.775000000000002,
          1.8059999999999972,
          1.838000000000001,
          1.2800000000000011,
          1.2970000000000006,
          1.3150000000000013,
          1.3369999999999995,
          1.3550000000000004,
          1.372,
          1.389999999999997,
          1.4059999999999988,
          1.4239999999999997,
          1.4430000000000014,
          1.463000000000001,
          1.4840000000000018,
          1.504999999999999,
          1.527000000000001,
          1.5500000000000007,
          1.5740000000000016,
          1.5990000000000002,
          1.6260000000000012,
          1.6529999999999987,
          1.6820000000000022,
          1.711000000000002,
          1.751999999999999,
          1.7910000000000004,
          1.8379999999999972,
          1.8329999999999984,
          1.850999999999999,
          1.870000000000001,
          1.8980000000000032,
          1.9220000000000008,
          1.9320000000000024,
          1.9469999999999992,
          1.8009999999999984,
          1.7010000000000003,
          1.5230000000000032,
          1.5259999999999962,
          1.5569999999999986,
          1.6709999999999994,
          1.8039999999999985,
          1.911999999999999,
          1.9770000000000003,
          2.0120000000000005,
          2.035,
          1.9400000000000013,
          1.777000000000001,
          1.5829999999999984,
          1.5890000000000022,
          1.6260000000000012,
          1.7479999999999976,
          1.902000000000001,
          2.022999999999996,
          2.099,
          2.1430000000000007,
          2.173000000000002,
          2.080000000000002,
          1.8960000000000008,
          1.6680000000000028,
          1.671999999999997,
          1.7119999999999962,
          1.8549999999999969,
          2.021000000000001,
          2.152000000000001,
          2.2340000000000018,
          2.2799999999999976,
          2.309000000000001
         ],
         "xaxis": "x",
         "y": [
          22.978,
          22.871,
          22.761,
          22.656,
          22.552,
          22.493,
          22.54,
          22.61,
          22.628,
          22.599,
          22.498,
          22.396,
          22.297,
          22.198,
          22.099,
          22.004,
          21.909,
          21.812,
          21.718,
          21.622,
          21.533,
          21.44,
          21.351,
          21.262,
          21.173,
          21.066,
          20.98,
          20.876,
          20.793,
          20.693,
          20.597,
          20.51,
          22.947,
          22.842,
          22.743,
          22.612,
          22.502,
          22.396,
          22.289,
          22.183,
          22.076,
          21.97,
          21.865,
          21.76,
          21.655,
          21.549,
          21.441,
          21.339,
          21.237,
          21.133,
          21.028,
          20.923,
          20.821,
          20.694,
          20.583,
          20.459,
          20.471,
          20.427,
          20.38,
          20.312,
          20.255,
          20.234,
          20.234,
          20.596,
          20.891,
          21.544,
          21.536,
          21.414,
          21.015,
          20.622,
          20.355,
          20.212,
          20.148,
          20.115,
          20.327,
          20.75,
          21.399,
          21.389,
          21.266,
          20.872,
          20.485,
          20.225,
          20.087,
          20.022,
          19.989,
          20.175,
          20.586,
          21.233,
          21.225,
          21.103,
          20.722,
          20.353,
          20.107,
          19.976,
          19.919,
          19.892
         ],
         "yaxis": "y"
        },
        {
         "mode": "markers",
         "name": "df2",
         "type": "scatter",
         "x": [
          2.3550000000000004,
          2.3969999999999985,
          2.437000000000001,
          2.4810000000000016,
          2.530999999999999,
          2.580000000000002,
          2.629999999999999,
          2.686,
          2.7459999999999987,
          2.808,
          2.869,
          2.9369999999999976,
          3.0159999999999982,
          3.093,
          3.1739999999999995,
          3.267000000000003,
          3.3669999999999973,
          3.4959999999999987,
          3.623999999999999,
          3.767,
          3.916,
          4.061,
          4.216999999999999,
          4.381,
          4.545999999999999,
          4.692,
          4.841999999999999,
          4.992000000000001,
          5.0909999999999975,
          5.177,
          5.206,
          2.247,
          2.285,
          2.326999999999998,
          2.369,
          2.4130000000000003,
          2.459000000000003,
          2.5130000000000017,
          2.5700000000000003,
          2.626000000000001,
          2.687999999999999,
          2.765000000000001,
          2.841000000000001,
          2.914999999999999,
          2.9919999999999973,
          3.055,
          3.1209999999999987,
          3.2049999999999983,
          3.325000000000003,
          3.446000000000001,
          3.5959999999999965,
          3.757999999999999,
          3.974000000000004,
          4.204999999999998,
          4.458999999999996,
          4.543000000000003,
          4.551000000000002,
          4.568000000000001,
          4.579000000000001,
          4.585000000000001,
          4.582000000000001,
          4.579000000000001,
          4.573,
          4.739000000000001,
          4.771999999999999,
          4.917999999999999,
          3.705000000000002,
          3.363999999999997,
          2.8359999999999985,
          2.8919999999999995,
          3.2490000000000023,
          3.878999999999998,
          4.524999999999999,
          4.945,
          5.122,
          5.213999999999999,
          5.285,
          4.574999999999999,
          3.881,
          3.187999999999999,
          3.2620000000000005,
          3.703,
          4.397000000000002,
          4.991999999999997,
          5.235999999999997,
          5.335000000000001,
          5.375,
          5.400000000000002,
          4.895000000000003,
          4.204000000000001,
          3.437999999999999,
          3.513999999999996,
          3.993000000000002,
          4.694000000000003,
          5.165999999999997,
          5.353999999999999,
          5.428000000000001,
          5.462,
          5.478999999999999,
          5.077999999999999,
          4.4510000000000005,
          3.6229999999999976,
          3.712,
          4.218999999999998,
          4.916000000000004,
          5.293000000000003,
          5.436,
          5.503999999999998,
          5.535,
          5.551999999999996,
          5.224,
          4.683,
          3.834000000000003,
          3.924,
          4.459,
          5.082000000000001,
          5.375,
          5.510999999999999,
          5.577000000000002,
          5.609999999999999,
          5.629000000000001,
          5.335000000000001,
          4.924,
          4.058,
          4.153999999999996,
          4.689,
          5.224,
          5.456,
          5.582999999999998,
          5.654,
          5.687000000000001,
          5.702999999999999,
          5.419999999999998,
          5.084999999999997,
          4.280999999999999,
          4.3820000000000014,
          4.904,
          5.319000000000003,
          5.524999999999999,
          5.655999999999999,
          5.727,
          5.7620000000000005,
          5.780999999999999,
          5.494,
          5.221,
          4.503,
          4.602,
          5.064,
          5.397000000000002,
          5.594999999999999,
          5.734000000000002,
          5.821999999999999,
          5.8729999999999976,
          5.906000000000002,
          5.57,
          5.322000000000003,
          4.728999999999999,
          4.84,
          5.221999999999998,
          5.486000000000001,
          5.6960000000000015,
          5.870999999999999,
          6.077999999999999,
          6.274000000000001,
          6.610999999999997,
          5.699000000000002,
          5.446999999999999,
          5.040000000000003,
          5.114000000000001,
          5.369,
          5.616,
          5.861999999999998,
          6.696999999999999,
          5.936,
          5.616,
          5.297000000000001,
          5.344000000000001,
          5.534999999999997,
          5.808,
          6.923000000000002,
          5.855,
          5.497,
          5.538999999999998,
          5.746000000000002
         ],
         "xaxis": "x2",
         "y": [
          22.959,
          22.863,
          22.769,
          22.678,
          22.587,
          22.498,
          22.41,
          22.325,
          22.243,
          22.161,
          22.083,
          22.009,
          21.939,
          21.872,
          21.805,
          21.748,
          21.701,
          21.642,
          21.591,
          21.566,
          21.543,
          21.524,
          21.54,
          21.56,
          21.584,
          21.627,
          21.677,
          21.732,
          21.765,
          21.798,
          21.81,
          22.938,
          22.848,
          22.759,
          22.669,
          22.578,
          22.486,
          22.395,
          22.303,
          22.211,
          22.122,
          22.029,
          21.937,
          21.854,
          21.792,
          21.743,
          21.692,
          21.628,
          21.574,
          21.525,
          21.466,
          21.442,
          21.419,
          21.433,
          21.475,
          21.49,
          21.492,
          21.496,
          21.5,
          21.502,
          21.501,
          21.499,
          21.498,
          21.557,
          21.57,
          21.718,
          21.516,
          21.597,
          21.884,
          21.839,
          21.644,
          21.524,
          21.603,
          21.753,
          21.82,
          21.863,
          21.903,
          21.661,
          21.577,
          21.728,
          21.702,
          21.596,
          21.638,
          21.826,
          21.911,
          21.929,
          21.932,
          21.938,
          21.818,
          21.634,
          21.68,
          21.658,
          21.612,
          21.754,
          21.92,
          21.957,
          21.955,
          21.948,
          21.942,
          21.904,
          21.698,
          21.64,
          21.636,
          21.655,
          21.855,
          21.984,
          21.976,
          21.942,
          21.927,
          21.92,
          21.977,
          21.778,
          21.635,
          21.633,
          21.714,
          21.931,
          22.001,
          21.959,
          21.925,
          21.906,
          21.894,
          22.014,
          21.887,
          21.639,
          21.661,
          21.801,
          22.009,
          22.015,
          21.948,
          21.897,
          21.876,
          21.868,
          22.041,
          21.969,
          21.7,
          21.726,
          21.909,
          22.056,
          22.012,
          21.93,
          21.884,
          21.867,
          21.86,
          22.046,
          22.061,
          21.779,
          21.818,
          22.013,
          22.108,
          22.026,
          21.934,
          21.889,
          21.884,
          21.891,
          22.07,
          22.138,
          21.918,
          21.979,
          22.161,
          22.165,
          22.051,
          21.966,
          22.002,
          22.095,
          22.323,
          22.105,
          22.259,
          22.176,
          22.227,
          22.318,
          22.237,
          22.1,
          22.474,
          22.182,
          22.36,
          22.459,
          22.482,
          22.463,
          22.307,
          22.824,
          22.449,
          22.655,
          22.657,
          22.556
         ],
         "yaxis": "y2"
        },
        {
         "mode": "markers",
         "name": "df3",
         "type": "scatter",
         "x": [
          2.6930000000000014,
          2.7479999999999976,
          2.8150000000000013,
          2.879999999999999,
          2.946999999999999,
          3.0180000000000007,
          3.1040000000000028,
          3.187000000000001,
          3.272000000000002,
          3.360999999999997,
          3.4919999999999973,
          3.623999999999999,
          3.7609999999999992,
          3.907,
          4.054000000000002,
          4.204999999999998,
          4.354999999999997,
          4.506,
          4.661999999999999,
          4.788,
          4.920999999999999,
          5.058000000000003,
          5.129999999999999,
          5.205000000000002,
          5.279999999999998,
          5.327999999999999,
          5.373999999999999,
          5.417999999999999,
          5.434000000000001,
          2.529,
          2.558,
          2.497,
          2.5109999999999992,
          2.567,
          2.6259999999999977,
          2.6849999999999987,
          2.7489999999999988,
          2.7659999999999982,
          2.8230000000000004,
          2.901,
          2.978000000000001,
          3.0700000000000003,
          3.169000000000004,
          3.27,
          3.381000000000004,
          3.5100000000000016,
          3.645,
          3.7870000000000026,
          3.9470000000000023,
          4.122,
          4.295999999999999,
          4.466000000000001,
          4.643000000000001,
          4.794999999999998,
          4.940000000000001,
          5.082000000000001,
          5.164999999999999,
          5.247,
          5.318999999999999,
          5.370000000000001,
          5.422000000000004,
          5.472999999999999,
          5.524000000000001,
          5.577000000000002,
          5.635000000000002,
          5.695999999999998,
          5.756,
          5.808,
          5.812999999999999,
          5.812999999999999,
          5.885000000000002,
          5.537000000000003,
          5.398,
          4.948,
          5.077999999999999,
          5.327000000000002,
          5.531000000000002,
          5.720000000000002,
          5.850000000000001,
          5.916,
          5.968,
          5.998999999999999,
          5.719999999999999,
          5.465000000000003,
          5.128,
          5.1960000000000015,
          5.393999999999998,
          5.602,
          5.798000000000002,
          5.916999999999998,
          6.007999999999999,
          5.919999999999998,
          6.018000000000001,
          5.799000000000003,
          5.532,
          5.247,
          5.299,
          5.463999999999999,
          5.686,
          5.873000000000001,
          5.844000000000001,
          6.556000000000001,
          5.888999999999999,
          5.6320000000000014,
          5.343,
          5.385999999999999,
          5.555,
          5.792999999999999,
          5.725999999999999,
          5.792999999999999,
          5.741,
          5.433,
          5.475999999999999,
          5.66,
          5.881,
          6.728999999999999,
          5.846,
          5.524000000000001,
          5.573,
          5.774000000000001,
          5.767,
          5.832000000000001,
          5.620999999999999,
          5.672999999999998,
          5.863,
          6.278000000000002,
          5.716999999999999,
          5.771000000000001,
          5.690999999999999,
          5.774999999999999,
          5.827000000000002,
          6.310000000000002
         ],
         "xaxis": "x3",
         "y": [
          22.968,
          22.881,
          22.8,
          22.722,
          22.643,
          22.568,
          22.504,
          22.441,
          22.377,
          22.323,
          22.274,
          22.228,
          22.188,
          22.179,
          22.172,
          22.17,
          22.207,
          22.246,
          22.291,
          22.349,
          22.417,
          22.486,
          22.514,
          22.548,
          22.588,
          22.579,
          22.569,
          22.564,
          22.555,
          22.941,
          22.895,
          22.997,
          22.972,
          22.881,
          22.791,
          22.701,
          22.613,
          22.594,
          22.532,
          22.45,
          22.368,
          22.296,
          22.23,
          22.163,
          22.105,
          22.066,
          22.027,
          21.999,
          21.998,
          21.997,
          22.027,
          22.078,
          22.135,
          22.21,
          22.29,
          22.369,
          22.409,
          22.46,
          22.491,
          22.485,
          22.483,
          22.458,
          22.422,
          22.382,
          22.322,
          22.262,
          22.201,
          22.145,
          22.14,
          22.14,
          22.162,
          22.49,
          22.545,
          22.264,
          22.366,
          22.551,
          22.519,
          22.359,
          22.241,
          22.203,
          22.212,
          22.225,
          22.414,
          22.623,
          22.51,
          22.569,
          22.664,
          22.549,
          22.367,
          22.265,
          22.255,
          22.177,
          22.241,
          22.419,
          22.68,
          22.712,
          22.74,
          22.727,
          22.558,
          22.366,
          22.193,
          22.636,
          22.4,
          22.67,
          22.821,
          22.834,
          22.755,
          22.535,
          22.217,
          22.289,
          22.651,
          22.893,
          22.877,
          22.744,
          22.517,
          22.909,
          22.628,
          22.932,
          22.897,
          22.723,
          22.397,
          22.561,
          22.927,
          22.89,
          22.708,
          22.856,
          22.921,
          22.878,
          22.552,
          22.904,
          22.861,
          22.961
         ],
         "yaxis": "y3"
        }
       ],
       "layout": {
        "annotations": [
         {
          "font": {
           "size": 16
          },
          "showarrow": false,
          "text": "RGB_AGB_Zini_0.0001",
          "x": 0.14444444444444446,
          "xanchor": "center",
          "xref": "paper",
          "y": 1,
          "yanchor": "bottom",
          "yref": "paper"
         },
         {
          "font": {
           "size": 16
          },
          "showarrow": false,
          "text": "RGB_AGB_Zini_0.03",
          "x": 0.5,
          "xanchor": "center",
          "xref": "paper",
          "y": 1,
          "yanchor": "bottom",
          "yref": "paper"
         },
         {
          "font": {
           "size": 16
          },
          "showarrow": false,
          "text": "RGB_AGB_Zini_0.0599",
          "x": 0.8555555555555556,
          "xanchor": "center",
          "xref": "paper",
          "y": 1,
          "yanchor": "bottom",
          "yref": "paper"
         }
        ],
        "height": 700,
        "template": {
         "data": {
          "bar": [
           {
            "error_x": {
             "color": "#2a3f5f"
            },
            "error_y": {
             "color": "#2a3f5f"
            },
            "marker": {
             "line": {
              "color": "#E5ECF6",
              "width": 0.5
             },
             "pattern": {
              "fillmode": "overlay",
              "size": 10,
              "solidity": 0.2
             }
            },
            "type": "bar"
           }
          ],
          "barpolar": [
           {
            "marker": {
             "line": {
              "color": "#E5ECF6",
              "width": 0.5
             },
             "pattern": {
              "fillmode": "overlay",
              "size": 10,
              "solidity": 0.2
             }
            },
            "type": "barpolar"
           }
          ],
          "carpet": [
           {
            "aaxis": {
             "endlinecolor": "#2a3f5f",
             "gridcolor": "white",
             "linecolor": "white",
             "minorgridcolor": "white",
             "startlinecolor": "#2a3f5f"
            },
            "baxis": {
             "endlinecolor": "#2a3f5f",
             "gridcolor": "white",
             "linecolor": "white",
             "minorgridcolor": "white",
             "startlinecolor": "#2a3f5f"
            },
            "type": "carpet"
           }
          ],
          "choropleth": [
           {
            "colorbar": {
             "outlinewidth": 0,
             "ticks": ""
            },
            "type": "choropleth"
           }
          ],
          "contour": [
           {
            "colorbar": {
             "outlinewidth": 0,
             "ticks": ""
            },
            "colorscale": [
             [
              0,
              "#0d0887"
             ],
             [
              0.1111111111111111,
              "#46039f"
             ],
             [
              0.2222222222222222,
              "#7201a8"
             ],
             [
              0.3333333333333333,
              "#9c179e"
             ],
             [
              0.4444444444444444,
              "#bd3786"
             ],
             [
              0.5555555555555556,
              "#d8576b"
             ],
             [
              0.6666666666666666,
              "#ed7953"
             ],
             [
              0.7777777777777778,
              "#fb9f3a"
             ],
             [
              0.8888888888888888,
              "#fdca26"
             ],
             [
              1,
              "#f0f921"
             ]
            ],
            "type": "contour"
           }
          ],
          "contourcarpet": [
           {
            "colorbar": {
             "outlinewidth": 0,
             "ticks": ""
            },
            "type": "contourcarpet"
           }
          ],
          "heatmap": [
           {
            "colorbar": {
             "outlinewidth": 0,
             "ticks": ""
            },
            "colorscale": [
             [
              0,
              "#0d0887"
             ],
             [
              0.1111111111111111,
              "#46039f"
             ],
             [
              0.2222222222222222,
              "#7201a8"
             ],
             [
              0.3333333333333333,
              "#9c179e"
             ],
             [
              0.4444444444444444,
              "#bd3786"
             ],
             [
              0.5555555555555556,
              "#d8576b"
             ],
             [
              0.6666666666666666,
              "#ed7953"
             ],
             [
              0.7777777777777778,
              "#fb9f3a"
             ],
             [
              0.8888888888888888,
              "#fdca26"
             ],
             [
              1,
              "#f0f921"
             ]
            ],
            "type": "heatmap"
           }
          ],
          "heatmapgl": [
           {
            "colorbar": {
             "outlinewidth": 0,
             "ticks": ""
            },
            "colorscale": [
             [
              0,
              "#0d0887"
             ],
             [
              0.1111111111111111,
              "#46039f"
             ],
             [
              0.2222222222222222,
              "#7201a8"
             ],
             [
              0.3333333333333333,
              "#9c179e"
             ],
             [
              0.4444444444444444,
              "#bd3786"
             ],
             [
              0.5555555555555556,
              "#d8576b"
             ],
             [
              0.6666666666666666,
              "#ed7953"
             ],
             [
              0.7777777777777778,
              "#fb9f3a"
             ],
             [
              0.8888888888888888,
              "#fdca26"
             ],
             [
              1,
              "#f0f921"
             ]
            ],
            "type": "heatmapgl"
           }
          ],
          "histogram": [
           {
            "marker": {
             "pattern": {
              "fillmode": "overlay",
              "size": 10,
              "solidity": 0.2
             }
            },
            "type": "histogram"
           }
          ],
          "histogram2d": [
           {
            "colorbar": {
             "outlinewidth": 0,
             "ticks": ""
            },
            "colorscale": [
             [
              0,
              "#0d0887"
             ],
             [
              0.1111111111111111,
              "#46039f"
             ],
             [
              0.2222222222222222,
              "#7201a8"
             ],
             [
              0.3333333333333333,
              "#9c179e"
             ],
             [
              0.4444444444444444,
              "#bd3786"
             ],
             [
              0.5555555555555556,
              "#d8576b"
             ],
             [
              0.6666666666666666,
              "#ed7953"
             ],
             [
              0.7777777777777778,
              "#fb9f3a"
             ],
             [
              0.8888888888888888,
              "#fdca26"
             ],
             [
              1,
              "#f0f921"
             ]
            ],
            "type": "histogram2d"
           }
          ],
          "histogram2dcontour": [
           {
            "colorbar": {
             "outlinewidth": 0,
             "ticks": ""
            },
            "colorscale": [
             [
              0,
              "#0d0887"
             ],
             [
              0.1111111111111111,
              "#46039f"
             ],
             [
              0.2222222222222222,
              "#7201a8"
             ],
             [
              0.3333333333333333,
              "#9c179e"
             ],
             [
              0.4444444444444444,
              "#bd3786"
             ],
             [
              0.5555555555555556,
              "#d8576b"
             ],
             [
              0.6666666666666666,
              "#ed7953"
             ],
             [
              0.7777777777777778,
              "#fb9f3a"
             ],
             [
              0.8888888888888888,
              "#fdca26"
             ],
             [
              1,
              "#f0f921"
             ]
            ],
            "type": "histogram2dcontour"
           }
          ],
          "mesh3d": [
           {
            "colorbar": {
             "outlinewidth": 0,
             "ticks": ""
            },
            "type": "mesh3d"
           }
          ],
          "parcoords": [
           {
            "line": {
             "colorbar": {
              "outlinewidth": 0,
              "ticks": ""
             }
            },
            "type": "parcoords"
           }
          ],
          "pie": [
           {
            "automargin": true,
            "type": "pie"
           }
          ],
          "scatter": [
           {
            "marker": {
             "colorbar": {
              "outlinewidth": 0,
              "ticks": ""
             }
            },
            "type": "scatter"
           }
          ],
          "scatter3d": [
           {
            "line": {
             "colorbar": {
              "outlinewidth": 0,
              "ticks": ""
             }
            },
            "marker": {
             "colorbar": {
              "outlinewidth": 0,
              "ticks": ""
             }
            },
            "type": "scatter3d"
           }
          ],
          "scattercarpet": [
           {
            "marker": {
             "colorbar": {
              "outlinewidth": 0,
              "ticks": ""
             }
            },
            "type": "scattercarpet"
           }
          ],
          "scattergeo": [
           {
            "marker": {
             "colorbar": {
              "outlinewidth": 0,
              "ticks": ""
             }
            },
            "type": "scattergeo"
           }
          ],
          "scattergl": [
           {
            "marker": {
             "colorbar": {
              "outlinewidth": 0,
              "ticks": ""
             }
            },
            "type": "scattergl"
           }
          ],
          "scattermapbox": [
           {
            "marker": {
             "colorbar": {
              "outlinewidth": 0,
              "ticks": ""
             }
            },
            "type": "scattermapbox"
           }
          ],
          "scatterpolar": [
           {
            "marker": {
             "colorbar": {
              "outlinewidth": 0,
              "ticks": ""
             }
            },
            "type": "scatterpolar"
           }
          ],
          "scatterpolargl": [
           {
            "marker": {
             "colorbar": {
              "outlinewidth": 0,
              "ticks": ""
             }
            },
            "type": "scatterpolargl"
           }
          ],
          "scatterternary": [
           {
            "marker": {
             "colorbar": {
              "outlinewidth": 0,
              "ticks": ""
             }
            },
            "type": "scatterternary"
           }
          ],
          "surface": [
           {
            "colorbar": {
             "outlinewidth": 0,
             "ticks": ""
            },
            "colorscale": [
             [
              0,
              "#0d0887"
             ],
             [
              0.1111111111111111,
              "#46039f"
             ],
             [
              0.2222222222222222,
              "#7201a8"
             ],
             [
              0.3333333333333333,
              "#9c179e"
             ],
             [
              0.4444444444444444,
              "#bd3786"
             ],
             [
              0.5555555555555556,
              "#d8576b"
             ],
             [
              0.6666666666666666,
              "#ed7953"
             ],
             [
              0.7777777777777778,
              "#fb9f3a"
             ],
             [
              0.8888888888888888,
              "#fdca26"
             ],
             [
              1,
              "#f0f921"
             ]
            ],
            "type": "surface"
           }
          ],
          "table": [
           {
            "cells": {
             "fill": {
              "color": "#EBF0F8"
             },
             "line": {
              "color": "white"
             }
            },
            "header": {
             "fill": {
              "color": "#C8D4E3"
             },
             "line": {
              "color": "white"
             }
            },
            "type": "table"
           }
          ]
         },
         "layout": {
          "annotationdefaults": {
           "arrowcolor": "#2a3f5f",
           "arrowhead": 0,
           "arrowwidth": 1
          },
          "autotypenumbers": "strict",
          "coloraxis": {
           "colorbar": {
            "outlinewidth": 0,
            "ticks": ""
           }
          },
          "colorscale": {
           "diverging": [
            [
             0,
             "#8e0152"
            ],
            [
             0.1,
             "#c51b7d"
            ],
            [
             0.2,
             "#de77ae"
            ],
            [
             0.3,
             "#f1b6da"
            ],
            [
             0.4,
             "#fde0ef"
            ],
            [
             0.5,
             "#f7f7f7"
            ],
            [
             0.6,
             "#e6f5d0"
            ],
            [
             0.7,
             "#b8e186"
            ],
            [
             0.8,
             "#7fbc41"
            ],
            [
             0.9,
             "#4d9221"
            ],
            [
             1,
             "#276419"
            ]
           ],
           "sequential": [
            [
             0,
             "#0d0887"
            ],
            [
             0.1111111111111111,
             "#46039f"
            ],
            [
             0.2222222222222222,
             "#7201a8"
            ],
            [
             0.3333333333333333,
             "#9c179e"
            ],
            [
             0.4444444444444444,
             "#bd3786"
            ],
            [
             0.5555555555555556,
             "#d8576b"
            ],
            [
             0.6666666666666666,
             "#ed7953"
            ],
            [
             0.7777777777777778,
             "#fb9f3a"
            ],
            [
             0.8888888888888888,
             "#fdca26"
            ],
            [
             1,
             "#f0f921"
            ]
           ],
           "sequentialminus": [
            [
             0,
             "#0d0887"
            ],
            [
             0.1111111111111111,
             "#46039f"
            ],
            [
             0.2222222222222222,
             "#7201a8"
            ],
            [
             0.3333333333333333,
             "#9c179e"
            ],
            [
             0.4444444444444444,
             "#bd3786"
            ],
            [
             0.5555555555555556,
             "#d8576b"
            ],
            [
             0.6666666666666666,
             "#ed7953"
            ],
            [
             0.7777777777777778,
             "#fb9f3a"
            ],
            [
             0.8888888888888888,
             "#fdca26"
            ],
            [
             1,
             "#f0f921"
            ]
           ]
          },
          "colorway": [
           "#636efa",
           "#EF553B",
           "#00cc96",
           "#ab63fa",
           "#FFA15A",
           "#19d3f3",
           "#FF6692",
           "#B6E880",
           "#FF97FF",
           "#FECB52"
          ],
          "font": {
           "color": "#2a3f5f"
          },
          "geo": {
           "bgcolor": "white",
           "lakecolor": "white",
           "landcolor": "#E5ECF6",
           "showlakes": true,
           "showland": true,
           "subunitcolor": "white"
          },
          "hoverlabel": {
           "align": "left"
          },
          "hovermode": "closest",
          "mapbox": {
           "style": "light"
          },
          "paper_bgcolor": "white",
          "plot_bgcolor": "#E5ECF6",
          "polar": {
           "angularaxis": {
            "gridcolor": "white",
            "linecolor": "white",
            "ticks": ""
           },
           "bgcolor": "#E5ECF6",
           "radialaxis": {
            "gridcolor": "white",
            "linecolor": "white",
            "ticks": ""
           }
          },
          "scene": {
           "xaxis": {
            "backgroundcolor": "#E5ECF6",
            "gridcolor": "white",
            "gridwidth": 2,
            "linecolor": "white",
            "showbackground": true,
            "ticks": "",
            "zerolinecolor": "white"
           },
           "yaxis": {
            "backgroundcolor": "#E5ECF6",
            "gridcolor": "white",
            "gridwidth": 2,
            "linecolor": "white",
            "showbackground": true,
            "ticks": "",
            "zerolinecolor": "white"
           },
           "zaxis": {
            "backgroundcolor": "#E5ECF6",
            "gridcolor": "white",
            "gridwidth": 2,
            "linecolor": "white",
            "showbackground": true,
            "ticks": "",
            "zerolinecolor": "white"
           }
          },
          "shapedefaults": {
           "line": {
            "color": "#2a3f5f"
           }
          },
          "ternary": {
           "aaxis": {
            "gridcolor": "white",
            "linecolor": "white",
            "ticks": ""
           },
           "baxis": {
            "gridcolor": "white",
            "linecolor": "white",
            "ticks": ""
           },
           "bgcolor": "#E5ECF6",
           "caxis": {
            "gridcolor": "white",
            "linecolor": "white",
            "ticks": ""
           }
          },
          "title": {
           "x": 0.05
          },
          "xaxis": {
           "automargin": true,
           "gridcolor": "white",
           "linecolor": "white",
           "ticks": "",
           "title": {
            "standoff": 15
           },
           "zerolinecolor": "white",
           "zerolinewidth": 2
          },
          "yaxis": {
           "automargin": true,
           "gridcolor": "white",
           "linecolor": "white",
           "ticks": "",
           "title": {
            "standoff": 15
           },
           "zerolinecolor": "white",
           "zerolinewidth": 2
          }
         }
        },
        "title": {
         "text": "Isochrone CMDs"
        },
        "width": 1000,
        "xaxis": {
         "anchor": "y",
         "domain": [
          0,
          0.2888888888888889
         ]
        },
        "xaxis2": {
         "anchor": "y2",
         "domain": [
          0.35555555555555557,
          0.6444444444444445
         ]
        },
        "xaxis3": {
         "anchor": "y3",
         "domain": [
          0.7111111111111111,
          1
         ]
        },
        "yaxis": {
         "anchor": "x",
         "autorange": "reversed",
         "domain": [
          0,
          1
         ]
        },
        "yaxis2": {
         "anchor": "x2",
         "autorange": "reversed",
         "domain": [
          0,
          1
         ]
        },
        "yaxis3": {
         "anchor": "x3",
         "autorange": "reversed",
         "domain": [
          0,
          1
         ]
        }
       }
      }
     },
     "metadata": {},
     "output_type": "display_data"
    }
   ],
   "source": [
    "# Making interactive plots with plotly\n",
    "\n",
    "import plotly.express as px\n",
    "import plotly.graph_objects as go\n",
    "import plotly.subplots as sp\n",
    "import pandas as pd\n",
    "\n",
    "\n",
    "df1 = pd.read_csv('/Users/mmckay/phd_projects/analysis_routine/DATA/4GYRS_RGB_AGB_isochrones/RGB_AGB/RGB_AGB_Zini_0.0001.csv')\n",
    "df2 = pd.read_csv('/Users/mmckay/phd_projects/analysis_routine/DATA/4GYRS_RGB_AGB_isochrones/RGB_AGB/RGB_AGB_Zini_0.03.csv')\n",
    "df3 = pd.read_csv('/Users/mmckay/phd_projects/analysis_routine/DATA/4GYRS_RGB_AGB_isochrones/RGB_AGB/RGB_AGB_Zini_0.0599.csv')\n",
    "\n",
    "\n",
    "# Create a subplot with 1 row and 2 columns\n",
    "fig = sp.make_subplots(rows=1, cols=3, subplot_titles=(\"RGB_AGB_Zini_0.0001\", \"RGB_AGB_Zini_0.03\", \"RGB_AGB_Zini_0.0599\",))\n",
    "\n",
    "# Add scatter plot for df1\n",
    "fig.add_trace(go.Scatter(x=df1['F475W_appmag-F814W_appmag'], y=df1['F814W_appmag'], mode='markers', name='df1', \n",
    "                        #  marker=dict(color=df1['Mini'], \n",
    "                        #              colorscale='magma_r', \n",
    "                                    #  colorbar=dict(title='Mini', orientation='h', len=0.45, xanchor=\"right\", yanchor=\"middle\", titleside=\"top\", x=0.4, y=1.1))\n",
    "                         ), \n",
    "                                    row=1, col=1)\n",
    "\n",
    "# Add scatter plot for df2\n",
    "fig.add_trace(go.Scatter(x=df2['F475W_appmag-F814W_appmag'], y=df2['F814W_appmag'], mode='markers', name='df2', \n",
    "                        #  marker=dict(color=df2['Mini'], \n",
    "                        #              colorscale='magma_r', \n",
    "                                    #  colorbar=dict(title='Mini', orientation='h', len=0.45, xanchor=\"left\", yanchor=\"middle\", titleside=\"top\", x=0.6, y=1.1)\n",
    "                         ), \n",
    "                                     row=1, col=2)\n",
    "\n",
    "fig.add_trace(go.Scatter(x=df3['F475W_appmag-F814W_appmag'], y=df3['F814W_appmag'], mode='markers', name='df3', \n",
    "                        #  marker=dict(color=df3['Mini'], \n",
    "                        #              colorscale='magma_r', \n",
    "                                    #  colorbar=dict(title='Mini', orientation='h', len=0.45, xanchor=\"left\", yanchor=\"middle\", titleside=\"top\", x=0.6, y=1.1))\n",
    "                         ), \n",
    "                                     row=1, col=3)\n",
    "\n",
    "# Update layout\n",
    "fig.update_layout(height=700, width=1000, title_text=\"Subplots\", title='Isochrone CMDs')\n",
    "\n",
    "# Inverse y-axes\n",
    "fig.update_yaxes(autorange=\"reversed\")\n",
    "\n",
    "# Show the plot\n",
    "fig.show()"
   ]
  },
  {
   "cell_type": "markdown",
   "metadata": {},
   "source": [
    "## Plot the figure isochrones over the current CMD\n"
   ]
  },
  {
   "cell_type": "code",
   "execution_count": 15,
   "metadata": {},
   "outputs": [],
   "source": [
    "interpolated_phast_rgb_agb_df = pd.read_csv('/Users/mmckay/phd_projects/analysis_routine/DATA/4GYRS_RGB_AGB_isochrones/RGB_AGB/interpolated_phast_rgb_agb_selection.csv')\n",
    "interpolated_phast_rgb_agb_df = interpolated_phast_rgb_agb_df.sample(n=10000)\n",
    "interpolated_phast_rgb_agb_df = interpolated_phast_rgb_agb_df.sort_values(by='interpolated_Mini', ascending=False)\n",
    "\n",
    "\n",
    "phast_g15_rgb_cut_df = pd.read_csv('/Users/mmckay/phd_projects/analysis_routine/DATA/4GYRS_RGB_AGB_isochrones/RGB_AGB/phast_rgb_selection.csv')\n",
    "phast_g15_rgb_cut_df = phast_g15_rgb_cut_df.sample(n=10000)\n",
    "\n",
    "\n",
    "\n"
   ]
  },
  {
   "cell_type": "code",
   "execution_count": 48,
   "metadata": {},
   "outputs": [
    {
     "data": {
      "text/plain": [
       "Index(['Unnamed: 0.1', 'Unnamed: 0', 'ra', 'dec', 'f475w_vega', 'f475w_snr',\n",
       "       'f475w_crowd', 'f475w_sharp', 'f475w_flag', 'f814w_vega', 'f814w_snr',\n",
       "       'f814w_crowd', 'f814w_sharp', 'f814w_flag', 'f275w_vega', 'f275w_snr',\n",
       "       'f275w_crowd', 'f275w_sharp', 'f275w_flag', 'f814w_vega_ecorr',\n",
       "       'f475w_vega_ecorr', 'f475w-f814w_ecorr', 'interpolated_MH',\n",
       "       'interpolated_Mini', 'interpolated_int_IMF', 'interpolated_Mass',\n",
       "       'interpolated_logL', 'interpolated_logTe', 'interpolated_logg'],\n",
       "      dtype='object')"
      ]
     },
     "execution_count": 48,
     "metadata": {},
     "output_type": "execute_result"
    }
   ],
   "source": [
    "interpolated_phast_rgb_agb_df.columns"
   ]
  },
  {
   "cell_type": "code",
   "execution_count": 59,
   "metadata": {},
   "outputs": [],
   "source": [
    "# def series_to_array(df):\n",
    "#     # Convert the object to numpy array before indexing\n",
    "#     f475w_f814w_ecorr = np.array(df[\"f475w-f814w_ecorr\"])\n",
    "#     f814w_vega_ecorr = np.array(df[\"f814w_vega_ecorr\"])\n",
    "#     z_col_arr = np.array(df[z_col])\n",
    "#     ra = np.array(df[\"ra\"])\n",
    "#     dec = np.array(df[\"dec\"])\n",
    "\n",
    "#     # Sort dataframe by Mini\n",
    "    \n",
    "\n",
    "#     return f475w_f814w_ecorr, f814w_vega_ecorr, z_col_arr, ra, dec\n"
   ]
  },
  {
   "cell_type": "code",
   "execution_count": 43,
   "metadata": {},
   "outputs": [
    {
     "data": {
      "text/html": [
       "<div>\n",
       "<style scoped>\n",
       "    .dataframe tbody tr th:only-of-type {\n",
       "        vertical-align: middle;\n",
       "    }\n",
       "\n",
       "    .dataframe tbody tr th {\n",
       "        vertical-align: top;\n",
       "    }\n",
       "\n",
       "    .dataframe thead th {\n",
       "        text-align: right;\n",
       "    }\n",
       "</style>\n",
       "<table border=\"1\" class=\"dataframe\">\n",
       "  <thead>\n",
       "    <tr style=\"text-align: right;\">\n",
       "      <th></th>\n",
       "      <th>Unnamed: 0.4</th>\n",
       "      <th>Unnamed: 0.3</th>\n",
       "      <th>Unnamed: 0.2</th>\n",
       "      <th>Unnamed: 0.1</th>\n",
       "      <th>Unnamed: 0</th>\n",
       "      <th>Zini</th>\n",
       "      <th>MH</th>\n",
       "      <th>logAge</th>\n",
       "      <th>Mini</th>\n",
       "      <th>int_IMF</th>\n",
       "      <th>...</th>\n",
       "      <th>F475Wmag</th>\n",
       "      <th>F555Wmag</th>\n",
       "      <th>F606Wmag</th>\n",
       "      <th>F625Wmag</th>\n",
       "      <th>F775Wmag</th>\n",
       "      <th>F814Wmag</th>\n",
       "      <th>F475W_appmag</th>\n",
       "      <th>F814W_appmag</th>\n",
       "      <th>F475Wmag-F814Wmag</th>\n",
       "      <th>F475W_appmag-F814W_appmag</th>\n",
       "    </tr>\n",
       "  </thead>\n",
       "  <tbody>\n",
       "    <tr>\n",
       "      <th>28</th>\n",
       "      <td>115</td>\n",
       "      <td>115</td>\n",
       "      <td>115</td>\n",
       "      <td>115</td>\n",
       "      <td>115</td>\n",
       "      <td>0.0327</td>\n",
       "      <td>0.37864</td>\n",
       "      <td>9.60206</td>\n",
       "      <td>1.418642</td>\n",
       "      <td>2.531738</td>\n",
       "      <td>...</td>\n",
       "      <td>0.876</td>\n",
       "      <td>0.124</td>\n",
       "      <td>-0.365</td>\n",
       "      <td>-0.678</td>\n",
       "      <td>-1.423</td>\n",
       "      <td>-1.535</td>\n",
       "      <td>25.326</td>\n",
       "      <td>22.915</td>\n",
       "      <td>2.411</td>\n",
       "      <td>2.411</td>\n",
       "    </tr>\n",
       "    <tr>\n",
       "      <th>29</th>\n",
       "      <td>116</td>\n",
       "      <td>116</td>\n",
       "      <td>116</td>\n",
       "      <td>116</td>\n",
       "      <td>116</td>\n",
       "      <td>0.0327</td>\n",
       "      <td>0.37864</td>\n",
       "      <td>9.60206</td>\n",
       "      <td>1.418794</td>\n",
       "      <td>2.531752</td>\n",
       "      <td>...</td>\n",
       "      <td>0.823</td>\n",
       "      <td>0.065</td>\n",
       "      <td>-0.431</td>\n",
       "      <td>-0.746</td>\n",
       "      <td>-1.513</td>\n",
       "      <td>-1.629</td>\n",
       "      <td>25.273</td>\n",
       "      <td>22.821</td>\n",
       "      <td>2.452</td>\n",
       "      <td>2.452</td>\n",
       "    </tr>\n",
       "    <tr>\n",
       "      <th>30</th>\n",
       "      <td>117</td>\n",
       "      <td>117</td>\n",
       "      <td>117</td>\n",
       "      <td>117</td>\n",
       "      <td>117</td>\n",
       "      <td>0.0327</td>\n",
       "      <td>0.37864</td>\n",
       "      <td>9.60206</td>\n",
       "      <td>1.418937</td>\n",
       "      <td>2.531765</td>\n",
       "      <td>...</td>\n",
       "      <td>0.776</td>\n",
       "      <td>0.016</td>\n",
       "      <td>-0.487</td>\n",
       "      <td>-0.804</td>\n",
       "      <td>-1.603</td>\n",
       "      <td>-1.722</td>\n",
       "      <td>25.226</td>\n",
       "      <td>22.728</td>\n",
       "      <td>2.498</td>\n",
       "      <td>2.498</td>\n",
       "    </tr>\n",
       "    <tr>\n",
       "      <th>31</th>\n",
       "      <td>118</td>\n",
       "      <td>118</td>\n",
       "      <td>118</td>\n",
       "      <td>118</td>\n",
       "      <td>118</td>\n",
       "      <td>0.0327</td>\n",
       "      <td>0.37864</td>\n",
       "      <td>9.60206</td>\n",
       "      <td>1.419063</td>\n",
       "      <td>2.531777</td>\n",
       "      <td>...</td>\n",
       "      <td>0.737</td>\n",
       "      <td>-0.026</td>\n",
       "      <td>-0.536</td>\n",
       "      <td>-0.854</td>\n",
       "      <td>-1.686</td>\n",
       "      <td>-1.810</td>\n",
       "      <td>25.187</td>\n",
       "      <td>22.640</td>\n",
       "      <td>2.547</td>\n",
       "      <td>2.547</td>\n",
       "    </tr>\n",
       "    <tr>\n",
       "      <th>32</th>\n",
       "      <td>119</td>\n",
       "      <td>119</td>\n",
       "      <td>119</td>\n",
       "      <td>119</td>\n",
       "      <td>119</td>\n",
       "      <td>0.0327</td>\n",
       "      <td>0.37864</td>\n",
       "      <td>9.60206</td>\n",
       "      <td>1.419181</td>\n",
       "      <td>2.531788</td>\n",
       "      <td>...</td>\n",
       "      <td>0.699</td>\n",
       "      <td>-0.066</td>\n",
       "      <td>-0.584</td>\n",
       "      <td>-0.903</td>\n",
       "      <td>-1.769</td>\n",
       "      <td>-1.897</td>\n",
       "      <td>25.149</td>\n",
       "      <td>22.553</td>\n",
       "      <td>2.596</td>\n",
       "      <td>2.596</td>\n",
       "    </tr>\n",
       "  </tbody>\n",
       "</table>\n",
       "<p>5 rows × 41 columns</p>\n",
       "</div>"
      ],
      "text/plain": [
       "    Unnamed: 0.4  Unnamed: 0.3  Unnamed: 0.2  Unnamed: 0.1  Unnamed: 0  \\\n",
       "28           115           115           115           115         115   \n",
       "29           116           116           116           116         116   \n",
       "30           117           117           117           117         117   \n",
       "31           118           118           118           118         118   \n",
       "32           119           119           119           119         119   \n",
       "\n",
       "      Zini       MH   logAge      Mini   int_IMF  ...  F475Wmag  F555Wmag  \\\n",
       "28  0.0327  0.37864  9.60206  1.418642  2.531738  ...     0.876     0.124   \n",
       "29  0.0327  0.37864  9.60206  1.418794  2.531752  ...     0.823     0.065   \n",
       "30  0.0327  0.37864  9.60206  1.418937  2.531765  ...     0.776     0.016   \n",
       "31  0.0327  0.37864  9.60206  1.419063  2.531777  ...     0.737    -0.026   \n",
       "32  0.0327  0.37864  9.60206  1.419181  2.531788  ...     0.699    -0.066   \n",
       "\n",
       "    F606Wmag  F625Wmag  F775Wmag  F814Wmag  F475W_appmag  F814W_appmag  \\\n",
       "28    -0.365    -0.678    -1.423    -1.535        25.326        22.915   \n",
       "29    -0.431    -0.746    -1.513    -1.629        25.273        22.821   \n",
       "30    -0.487    -0.804    -1.603    -1.722        25.226        22.728   \n",
       "31    -0.536    -0.854    -1.686    -1.810        25.187        22.640   \n",
       "32    -0.584    -0.903    -1.769    -1.897        25.149        22.553   \n",
       "\n",
       "    F475Wmag-F814Wmag  F475W_appmag-F814W_appmag  \n",
       "28              2.411                      2.411  \n",
       "29              2.452                      2.452  \n",
       "30              2.498                      2.498  \n",
       "31              2.547                      2.547  \n",
       "32              2.596                      2.596  \n",
       "\n",
       "[5 rows x 41 columns]"
      ]
     },
     "execution_count": 43,
     "metadata": {},
     "output_type": "execute_result"
    }
   ],
   "source": [
    "isochrone_df = pd.read_csv('/Users/mmckay/phd_projects/analysis_routine/DATA/4GYRS_RGB_AGB_isochrones/RGB/RGB_isochrone_table.csv')\n",
    "isochrone_df = isochrone_df[isochrone_df[\"MH\"] == 3.78640e-01]\n",
    "isochrone_df.head()"
   ]
  },
  {
   "cell_type": "code",
   "execution_count": 5,
   "metadata": {},
   "outputs": [
    {
     "name": "stdout",
     "output_type": "stream",
     "text": [
      "0.6\n",
      "0.0\n",
      "-0.58\n",
      "-1.89\n",
      "0.6\n",
      "0.0\n",
      "-0.58\n",
      "-1.89\n"
     ]
    },
    {
     "data": {
      "image/png": "[encoded data removed]",
      "text/plain": [
       "<Figure size 1800x576 with 2 Axes>"
      ]
     },
     "metadata": {
      "needs_background": "light"
     },
     "output_type": "display_data"
    }
   ],
   "source": [
    "# z_col = 'interpolated_MH'\n",
    "# Create a figure and subplots\n",
    "# /Users/mmckay/phd_projects/analysis_routine/DATA/4GYRS_RGB_AGB_isochrones/RGB/interpolated_phast_rgb_catalog.csv\n",
    "interpolated_phast_rgb_agb_df = pd.read_csv('/Users/mmckay/phd_projects/analysis_routine/DATA/4GYRS_RGB_AGB_isochrones/RGB/interpolated_phast_rgb_catalog.csv')\n",
    "# interpolated_phast_rgb_agb_df = pd.read_csv(f'{WORK_DIR}/RGB/interpolated_phast_g15_rgb_catalog.csv')\n",
    "interpolated_phast_rgb_agb_df = interpolated_phast_rgb_agb_df.sample(n=10000)\n",
    "interpolated_phast_rgb_agb_df = interpolated_phast_rgb_agb_df.sort_values(by='interpolated_Mini', ascending=False)\n",
    "phast_g15_rgb_cut_df = pd.read_csv(WORK_DIR+'RGB/interpolated_phast_g15_rgb_selection.csv')\n",
    "phast_g15_rgb_cut_df = phast_g15_rgb_cut_df.sample(n=10000)\n",
    "\n",
    "plot_catalog_CMD_and_Model_iso(catalog_df=interpolated_phast_rgb_agb_df, rgb_selection_df=phast_g15_rgb_cut_df, save_file='phast_cmd_and_isochrones.jpeg')"
   ]
  },
  {
   "cell_type": "code",
   "execution_count": 51,
   "metadata": {},
   "outputs": [
    {
     "name": "stdout",
     "output_type": "stream",
     "text": [
      "0.6\n",
      "0.0\n",
      "-0.58\n",
      "-2.19\n",
      "0.6\n",
      "0.0\n",
      "-0.58\n",
      "-2.19\n"
     ]
    },
    {
     "data": {
      "image/png": "[encoded data removed]",
      "text/plain": [
       "<Figure size 1800x576 with 2 Axes>"
      ]
     },
     "metadata": {
      "needs_background": "light"
     },
     "output_type": "display_data"
    }
   ],
   "source": [
    "# z_col = 'interpolated_MH'\n",
    "# Create a figure and subplots\n",
    "# /Users/mmckay/phd_projects/analysis_routine/DATA/4GYRS_RGB_AGB_isochrones/RGB/interpolated_phat_rgb_catalog.csv\n",
    "interpolated_phat_rgb_agb_df = pd.read_csv(WORK_DIR+'/RGB/interpolated_phat_rgb_catalog.csv')\n",
    "interpolated_phat_rgb_agb_df = interpolated_phat_rgb_agb_df.sample(n=10000)\n",
    "interpolated_phat_rgb_agb_df = interpolated_phat_rgb_agb_df.sort_values(by='interpolated_Mini', ascending=False)\n",
    "\n",
    "# '/Users/mmckay/phd_projects/analysis_routine/DATA/4GYRS_RGB_AGB_isochrones/RGB/interpolated_phast_g15_rgb_selection.csv'\n",
    "phat_g15_rgb_cut_df = pd.read_csv(WORK_DIR+'RGB/interpolated_phat_g15_rgb_selection.csv')\n",
    "phat_g15_rgb_cut_df = phat_g15_rgb_cut_df.sample(n=10000)\n",
    "\n",
    "plot_catalog_CMD_and_Model_iso(catalog_df=interpolated_phat_rgb_agb_df, rgb_selection_df=phat_g15_rgb_cut_df, save_file='phat_cmd_and_isochrones.jpeg')"
   ]
  },
  {
   "cell_type": "code",
   "execution_count": null,
   "metadata": {},
   "outputs": [],
   "source": [
    "# z_col = 'interpolated_MH'\n",
    "# Create a figure and subplots\n",
    "\n",
    "interpolated_phast_rgb_agb_df = pd.read_csv(WORK_DIR+'/RGB_AGB/interpolated_phast_rgb_agb_selection.csv')\n",
    "interpolated_phast_rgb_agb_df = interpolated_phast_rgb_agb_df.sample(n=10000)\n",
    "interpolated_phast_rgb_agb_df = interpolated_phast_rgb_agb_df.sort_values(by='interpolated_Mini', ascending=False)\n",
    "\n",
    "phast_g15_rgb_cut_df = pd.read_csv(WORK_DIR+'/RGB_AGB/phast_rgb_selection.csv')\n",
    "phast_g15_rgb_cut_df = phast_g15_rgb_cut_df.sample(n=10000)\n",
    "\n",
    "plot_catalog_CMD_and_Model_iso(catalog_df=interpolated_phast_rgb_agb_df, rgb_selection_df=phast_g15_rgb_cut_df, save_file='phast_cmd_and_isochrones.jpeg')"
   ]
  },
  {
   "cell_type": "code",
   "execution_count": 66,
   "metadata": {},
   "outputs": [],
   "source": [
    "# Zini_list = [0.0152, 0.0599, 0.03, 0.0001]\n",
    "# colors = ['red', 'blue', 'green', 'orange']\n",
    "# # isochrone_df = pd.read_csv('/Users/mmckay/phd_projects/analysis_routine/DATA/4GYRS_RGB_AGB_isochrones/RGB_AGB/RGB_AGB_isochrone_table.csv')\n",
    "# fig, axs = plt.subplots(1,1,figsize=(10, 10))\n",
    "# for Zini, color in zip(Zini_list, itertools.cycle(colors)):\n",
    "#     # Zini =  0.0152 # Gregersen et al 2015\n",
    "#     # Plot CMD with isochrone\n",
    "#     print(Zini)\n",
    "#     isochrone_df = pd.read_csv('/Users/mmckay/phd_projects/analysis_routine/DATA/4GYRS_RGB_AGB_isochrones/RGB_AGB/RGB_AGB_isochrone_table.csv')\n",
    "#     isochrone_df = isochrone_df[isochrone_df[\"Zini\"] == Zini]\n",
    "#     # print(isochrone_df.head())\n",
    "#     sns.lineplot(\n",
    "#         x=\"F475W_appmag-F814W_appmag\",\n",
    "#         y=\"F814W_appmag\",\n",
    "#         data=isochrone_df,\n",
    "#         ax=axs,\n",
    "#         zorder=0,\n",
    "#         color=color,\n",
    "#         # s=20,\n",
    "#         label=f\"Zini={Zini}\",\n",
    "#     )\n",
    "\n",
    "# axs.invert_yaxis()  # Assuming you want to invert the y-axis for astronomical plots\n",
    "# axs.legend()\n",
    "# plt.show()"
   ]
  },
  {
   "cell_type": "code",
   "execution_count": 26,
   "metadata": {},
   "outputs": [
    {
     "data": {
      "image/png": "[encoded data removed]",
      "text/plain": [
       "<Figure size 720x720 with 1 Axes>"
      ]
     },
     "metadata": {
      "needs_background": "light"
     },
     "output_type": "display_data"
    }
   ],
   "source": [
    "Zini =  0.0599 # Gregersen et al 2015\n",
    "isochrone_df = pd.read_csv('/Users/mmckay/phd_projects/analysis_routine/DATA/4GYRS_RGB_AGB_isochrones/RGB_AGB/RGB_AGB_isochrone_table.csv')\n",
    "# Plot CMD with isochrone\n",
    "isochrone_df = isochrone_df[isochrone_df[\"Zini\"] == Zini]\n",
    "fig, axs = plt.subplots(figsize=(10, 10))\n",
    "sns.lineplot(\n",
    "    x=\"F475W_appmag-F814W_appmag\",\n",
    "    y=\"F814W_appmag\",\n",
    "    data=isochrone_df,\n",
    "    ax=axs,\n",
    "    zorder=0,\n",
    "    color=\"black\",\n",
    "    # s=20,\n",
    "    label=f\"Zini={Zini}\",\n",
    ")\n",
    "\n",
    "axs.invert_yaxis()  # Assuming you want to invert the y-axis for astronomical plots\n",
    "axs.legend()\n",
    "plt.show()\n",
    "# sns.scatterplot(x=f475w_f814w_ecorr, y=f814w_vega_ecorr, hue=z_col_arr, ax=axs[1], zorder=0, size=1, palette='magma')"
   ]
  },
  {
   "cell_type": "markdown",
   "metadata": {},
   "source": [
    "# Preprocessing phast photometry catalog\n"
   ]
  },
  {
   "cell_type": "code",
   "execution_count": null,
   "metadata": {},
   "outputs": [],
   "source": [
    "phast_fits_filepath = '/Users/mmckay/phd_projects/analysis_routine/DATA/phast_f475W_f814W_table.csv'\n",
    "output_file = '/Users/mmckay/phd_projects/analysis_routine/DATA/test_modules/reduced_phast_catalog.csv'\n",
    "phast_df = make_optical_photmetry_table(photometry_fits_filepath=phast_fits_filepath, output_filepath=output_file)"
   ]
  },
  {
   "cell_type": "markdown",
   "metadata": {},
   "source": [
    "# Testing plot function"
   ]
  },
  {
   "cell_type": "code",
   "execution_count": null,
   "metadata": {},
   "outputs": [],
   "source": [
    "m31_df = pd.read_csv('/Users/mmckay/phd_projects/analysis_routine/DATA/interpolated_m31_MH_catalog.csv')\n",
    "m31_df.columns"
   ]
  },
  {
   "cell_type": "code",
   "execution_count": null,
   "metadata": {},
   "outputs": [],
   "source": [
    "import os\n",
    "os.chdir('/Users/mmckay/phd_projects/analysis_routine/code/photometry_fns')\n",
    "from isochrone_preprocessing_fns import *\n",
    "from photmetry_catalog_preprocessing_fn import *\n",
    "from plotting_fns import *\n",
    "# csv_filepath = '/Users/mmckay/phd_projects/analysis_routine/DATA/interpolated_m31_MH_catalog.csv'\n",
    "csv_filepath = '/Users/mmckay/phd_projects/analysis_routine/DATA/interpolated_phat_rgb_agb_dataset.csv'\n",
    "\n",
    "f814w_col = 'f814w_vega_ecorr'\n",
    "f475w_f814_col = 'f475w-f814w_ecorr'\n",
    "z_col = 'interpolated_MH'\n",
    "savefile_path = '/Users/mmckay/phd_projects/analysis_routine/DATA/test_modules/rgb_slection.csv'\n",
    "savefig_filepath = '/Users/mmckay/phd_projects/analysis_routine/FIGURES/cmd_plot.jpeg'\n",
    "\n",
    "plot_CMD(csv_filepath, f814w_col, f475w_f814_col, z_col, savefile=True, apply_phat_rgb_MH_selection=True, save_rgb_selection=True, save_filepath=savefile_path, savefig_filepath=savefig_filepath)"
   ]
  },
  {
   "cell_type": "code",
   "execution_count": null,
   "metadata": {},
   "outputs": [],
   "source": [
    "csv_filepath = '/Users/mmckay/phd_projects/analysis_routine/DATA/reduced_phat_catalog.csv'\n",
    "f814w_col = 'f814w_vega_ecorr'\n",
    "f475w_f814_col = 'f475w-f814w_ecorr'\n",
    "z_col = 'f814w_snr'\n",
    "savefile_path = '/Users/mmckay/phd_projects/analysis_routine/DATA/phat_rgb_selection.csv'\n",
    "savefig_filepath = '/Users/mmckay/phd_projects/analysis_routine/FIGURES/phat_rgb_selection.jpeg'\n",
    "\n",
    "plot_CMD(csv_filepath, f814w_col, f475w_f814_col, z_col, savefile=True, apply_phat_rgb_MH_selection=True, save_rgb_selection=True, save_filepath=savefile_path, savefig_filepath=savefig_filepath)"
   ]
  },
  {
   "cell_type": "code",
   "execution_count": null,
   "metadata": {},
   "outputs": [],
   "source": [
    "csv_filepath = '/Users/mmckay/phd_projects/analysis_routine/DATA/reduced_phast_catalog.csv'\n",
    "f814w_col = 'f814w_vega_ecorr'\n",
    "f475w_f814_col = 'f475w-f814w_ecorr'\n",
    "z_col = 'f814w_snr'\n",
    "savefile_path = '/Users/mmckay/phd_projects/analysis_routine/DATA/phast_rgb_selection.csv'\n",
    "savefig_filepath = '/Users/mmckay/phd_projects/analysis_routine/FIGURES/phast_rgb_selection.jpeg'\n",
    "\n",
    "plot_CMD(csv_filepath, f814w_col, f475w_f814_col, z_col, savefile=True, apply_phat_rgb_MH_selection=True, save_rgb_selection=True, save_filepath=savefile_path, savefig_filepath=savefig_filepath)"
   ]
  },
  {
   "cell_type": "markdown",
   "metadata": {},
   "source": [
    "# Interpolateion"
   ]
  },
  {
   "cell_type": "code",
   "execution_count": null,
   "metadata": {},
   "outputs": [],
   "source": [
    "import os\n",
    "os.chdir('/Users/mmckay/phd_projects/analysis_routine/code/photometry_fns')\n",
    "from isochrone_preprocessing_fns import *\n",
    "from photmetry_catalog_preprocessing_fn import *\n",
    "from plotting_fns import *\n",
    "\n",
    "# RGB\n",
    "catalog_linear_interpolation(catalog_csv_filepath='/Users/mmckay/phd_projects/analysis_routine/DATA/phast_rgb_selection.csv', \n",
    "                             isochrone_csv_filepath='/Users/mmckay/phd_projects/analysis_routine/DATA/test_modules/RGB_isochrone_tables/RGB_isochrone_table.csv', \n",
    "                             output_filepath='/Users/mmckay/phd_projects/analysis_routine/DATA/Interpolated_phast_rgb_selection.csv', \n",
    "                             savefile=True)\n",
    "\n",
    "plot_CMD(csv_filepath='/Users/mmckay/phd_projects/analysis_routine/DATA/interpolated_phast_rgb_selection.csv', f814w_col='f814w_vega_ecorr', f475w_f814_col='f475w-f814w_ecorr', z_col='interpolated_MH', savefile=True, apply_phat_rgb_MH_selection=False, save_rgb_selection=False, save_filepath='', savefig_filepath='/Users/mmckay/phd_projects/analysis_routine/FIGURES/cmd_phast_rgb_selection.jpeg')\n",
    "\n",
    "# RGB and AGB stars\n",
    "catalog_linear_interpolation(catalog_csv_filepath='/Users/mmckay/phd_projects/analysis_routine/DATA/phast_rgb_selection.csv', \n",
    "                             isochrone_csv_filepath='/Users/mmckay/phd_projects/analysis_routine/DATA/RGB_isochrone_tables/RGB_AGB_isochrone_table.csv', \n",
    "                             output_filepath='/Users/mmckay/phd_projects/analysis_routine/DATA/Interpolated_phast_rgb_agb_selection.csv', \n",
    "                             savefile=True)\n",
    "\n",
    "plot_CMD(csv_filepath='/Users/mmckay/phd_projects/analysis_routine/DATA/interpolated_phast_rgb_agb_selection.csv', f814w_col='f814w_vega_ecorr', f475w_f814_col='f475w-f814w_ecorr', z_col='interpolated_MH', savefile=True, apply_phat_rgb_MH_selection=False, save_rgb_selection=False, save_filepath='', savefig_filepath='/Users/mmckay/phd_projects/analysis_routine/FIGURES/cmd_phast_rgb_agb_selection.jpeg')\n"
   ]
  },
  {
   "cell_type": "code",
   "execution_count": null,
   "metadata": {},
   "outputs": [],
   "source": [
    "# PHAT\n",
    "# RGB\n",
    "catalog_linear_interpolation(catalog_csv_filepath='/Users/mmckay/phd_projects/analysis_routine/DATA/phat_rgb_selection.csv', \n",
    "                             isochrone_csv_filepath='/Users/mmckay/phd_projects/analysis_routine/DATA/test_modules/RGB_isochrone_tables/RGB_isochrone_table.csv', \n",
    "                             output_filepath='/Users/mmckay/phd_projects/analysis_routine/DATA/Interpolated_phat_rgb_selection.csv', \n",
    "                             savefile=True)\n",
    "\n",
    "plot_CMD(csv_filepath='/Users/mmckay/phd_projects/analysis_routine/DATA/interpolated_phat_rgb_selection.csv', f814w_col='f814w_vega_ecorr', f475w_f814_col='f475w-f814w_ecorr', z_col='interpolated_MH', savefile=True, apply_phat_rgb_MH_selection=False, save_rgb_selection=False, save_filepath='', savefig_filepath='/Users/mmckay/phd_projects/analysis_routine/FIGURES/cmd_phat_rgb_selection.jpeg')\n",
    "\n",
    "# RGB and AGB stars\n",
    "catalog_linear_interpolation(catalog_csv_filepath='/Users/mmckay/phd_projects/analysis_routine/DATA/phat_rgb_selection.csv', \n",
    "                             isochrone_csv_filepath='/Users/mmckay/phd_projects/analysis_routine/DATA/RGB_isochrone_tables/RGB_AGB_isochrone_table.csv', \n",
    "                             output_filepath='/Users/mmckay/phd_projects/analysis_routine/DATA/Interpolated_phat_rgb_agb_selection.csv', \n",
    "                             savefile=True)\n",
    "\n",
    "plot_CMD(csv_filepath='/Users/mmckay/phd_projects/analysis_routine/DATA/interpolated_phat_rgb_agb_selection.csv', f814w_col='f814w_vega_ecorr', f475w_f814_col='f475w-f814w_ecorr', z_col='interpolated_MH', savefile=True, apply_phat_rgb_MH_selection=False, save_rgb_selection=False, save_filepath='', savefig_filepath='/Users/mmckay/phd_projects/analysis_routine/FIGURES/cmd_phat_rgb_agb_selection.jpeg')"
   ]
  },
  {
   "cell_type": "markdown",
   "metadata": {},
   "source": [
    "# Compare interpolated and reduced datasets"
   ]
  },
  {
   "cell_type": "code",
   "execution_count": null,
   "metadata": {},
   "outputs": [],
   "source": [
    "interpolated_phast_rgb_agb_df = pd.read_csv('/Users/mmckay/phd_projects/analysis_routine/DATA/interpolated_phast_rgb_agb_selection.csv')\n",
    "interpolated_phast_rgb_df = pd.read_csv('/Users/mmckay/phd_projects/analysis_routine/DATA/interpolated_phast_rgb_selection.csv')\n",
    "phast_rgb_selection_df = pd.read_csv('/Users/mmckay/phd_projects/analysis_routine/DATA/phast_rgb_selection.csv')\n",
    "\n"
   ]
  },
  {
   "cell_type": "code",
   "execution_count": null,
   "metadata": {},
   "outputs": [],
   "source": [
    "phast_rgb_selection_df[['f814w_vega_ecorr', 'f475w-f814w_ecorr']].describe()"
   ]
  },
  {
   "cell_type": "code",
   "execution_count": null,
   "metadata": {},
   "outputs": [],
   "source": [
    "interpolated_phast_rgb_df[['f814w_vega_ecorr', 'f475w-f814w_ecorr']].describe()"
   ]
  },
  {
   "cell_type": "code",
   "execution_count": null,
   "metadata": {},
   "outputs": [],
   "source": [
    "interpolated_phast_rgb_agb_df[['f814w_vega_ecorr', 'f475w-f814w_ecorr']].describe()"
   ]
  },
  {
   "cell_type": "markdown",
   "metadata": {},
   "source": [
    "# Plot interpolated datasets\n"
   ]
  },
  {
   "cell_type": "code",
   "execution_count": null,
   "metadata": {},
   "outputs": [],
   "source": [
    "import os\n",
    "os.chdir('/Users/mmckay/phd_projects/analysis_routine/code/photometry_fns')\n",
    "from isochrone_preprocessing_fns import *\n",
    "from photmetry_catalog_preprocessing_fn import *\n",
    "from plotting_fns import *\n",
    "\n",
    "# PHAST\n",
    "photometry_binned_spatial_map(catalog_csv_filepath = '/Users/mmckay/phd_projects/analysis_routine/DATA/Interpolated_phast_rgb_selection.csv', z_col='interpolated_MH', output_dir='/Users/mmckay/phd_projects/analysis_routine/FIGURES', catalog_name='phast_rgb')\n",
    "photometry_binned_spatial_map(catalog_csv_filepath = '/Users/mmckay/phd_projects/analysis_routine/DATA/Interpolated_phast_rgb_agb_selection.csv', z_col='interpolated_MH', output_dir='/Users/mmckay/phd_projects/analysis_routine/FIGURES', catalog_name='phast_rgb+agb')\n",
    "\n",
    "# PHAT\n",
    "photometry_binned_spatial_map(catalog_csv_filepath = '/Users/mmckay/phd_projects/analysis_routine/DATA/Interpolated_phat_rgb_selection.csv', z_col='interpolated_MH', output_dir='/Users/mmckay/phd_projects/analysis_routine/FIGURES', catalog_name='phat_rgb')\n",
    "photometry_binned_spatial_map(catalog_csv_filepath = '/Users/mmckay/phd_projects/analysis_routine/DATA/Interpolated_phat_rgb_agb_selection.csv', z_col='interpolated_MH', output_dir='/Users/mmckay/phd_projects/analysis_routine/FIGURES', catalog_name='phat_rgb_agb')\n"
   ]
  },
  {
   "cell_type": "code",
   "execution_count": null,
   "metadata": {},
   "outputs": [],
   "source": [
    "# Kde contour plots for phat and phast\n",
    "csv_filepath = '/Users/mmckay/phd_projects/analysis_routine/DATA/Interpolated_phat_rgb_selection.csv'\n",
    "df = pd.read_csv(csv_filepath)\n",
    "# df = df.replace([np.inf, -np.inf], np.nan)\n"
   ]
  },
  {
   "cell_type": "code",
   "execution_count": null,
   "metadata": {},
   "outputs": [],
   "source": [
    "df.columns"
   ]
  },
  {
   "cell_type": "code",
   "execution_count": null,
   "metadata": {},
   "outputs": [],
   "source": [
    "csv_filepath = '/Users/mmckay/phd_projects/analysis_routine/DATA/Interpolated_phat_rgb_selection.csv'\n",
    "df = pd.read_csv(csv_filepath)\n",
    "df = df[df['interpolated_MH'] <= 0.5]\n",
    "\n",
    "\n",
    "# Create a density contour plot using Plotly Express\n",
    "fig = px.density_contour(df, x='f475w-f814w_ecorr', y='f814w_vega_ecorr')\n",
    "\n",
    "# Add labels and title\n",
    "fig.update_layout(xaxis_title='F475W-F814W', yaxis_title='F814W', title=f'{csv_filepath.split(\"/\")[-1:]}: N={len(df)}')\n",
    "\n",
    "# Reverse the y-axis\n",
    "fig.update_layout(yaxis=dict(autorange=\"reversed\"))\n",
    "\n",
    "# Save the plot as a JPEG file\n",
    "pio.write_image(fig, '/Users/mmckay/phd_projects/analysis_routine/FIGURES/CMD_contour_plot.jpeg')\n",
    "\n",
    "# Show the plot\n",
    "# fig.show()"
   ]
  },
  {
   "cell_type": "code",
   "execution_count": null,
   "metadata": {},
   "outputs": [],
   "source": [
    "csv_filepath = '/Users/mmckay/phd_projects/analysis_routine/DATA/Interpolated_phat_rgb_selection.csv'\n",
    "df = pd.read_csv(csv_filepath)\n",
    "df = df[df['interpolated_MH'] <= 0.5]\n",
    "\n",
    "\n",
    "# Create a density contour plot using Plotly Express\n",
    "fig = px.density_contour(df, x='ra', y='dec')\n",
    "\n",
    "# Add labels and title\n",
    "fig.update_layout(xaxis_title='RA', yaxis_title='DEC', title=f'{csv_filepath.split(\"/\")[-1:]}: N={len(df)}')\n",
    "\n",
    "# Reverse the y-axis\n",
    "# fig.update_layout(yaxis=dict(autorange=\"reversed\"))\n",
    "\n",
    "# Save the plot as a JPEG file\n",
    "pio.write_image(fig, '/Users/mmckay/phd_projects/analysis_routine/FIGURES/spatial_map_contour_plot.jpeg')"
   ]
  },
  {
   "cell_type": "code",
   "execution_count": null,
   "metadata": {},
   "outputs": [],
   "source": [
    "fig = go.Figure()\n",
    "fig.add_trace(go.Histogram2dContour(\n",
    "        x = df['ra'],\n",
    "        y = df['dec'],\n",
    "        colorscale = 'Blues',\n",
    "        reversescale = True,\n",
    "        xaxis = 'x',\n",
    "        yaxis = 'y'\n",
    "    ))\n",
    "fig.add_trace(go.Scatter(\n",
    "        x = df['ra'],\n",
    "        y = df['dec'],\n",
    "        xaxis = 'x',\n",
    "        yaxis = 'y',\n",
    "        mode = 'markers',\n",
    "        marker = dict(\n",
    "            color = 'rgba(0,0,0,0.3)',\n",
    "            size = 3\n",
    "        )\n",
    "    ))\n",
    "pio.write_image(fig, '/Users/mmckay/phd_projects/analysis_routine/FIGURES/spatial_map_contour_plot.jpeg')\n",
    "# fig.show()"
   ]
  },
  {
   "cell_type": "code",
   "execution_count": null,
   "metadata": {},
   "outputs": [],
   "source": [
    "plt.hist(df['interpolated_MH'].to_numpy(), bins=30)\n",
    "plt.show()"
   ]
  },
  {
   "cell_type": "code",
   "execution_count": null,
   "metadata": {},
   "outputs": [],
   "source": [
    "import matplotlib.pyplot as plt\n",
    "import numpy as np\n",
    "\n",
    "# Generate some sample data\n",
    "x = np.linspace(-5, 5, 100)\n",
    "y = np.linspace(-5, 5, 100)\n",
    "X, Y = np.meshgrid(x, y)\n",
    "Z = np.sin(np.sqrt(X**2 + Y**2))\n",
    "\n",
    "# Create the contour plot\n",
    "plt.contour(X, Y, Z)\n",
    "\n",
    "# Add labels and title\n",
    "plt.xlabel('X')\n",
    "plt.ylabel('Y')\n",
    "plt.title('Contour Plot')\n",
    "\n",
    "# Show the plot\n",
    "plt.show()\n"
   ]
  },
  {
   "cell_type": "code",
   "execution_count": null,
   "metadata": {},
   "outputs": [],
   "source": [
    "phatter_isochrone_csv = cmd_isochrone_processing(isochrone_csv='/Users/mmckay/phd_projects/analysis_routine/DATA/phatter_RGB_isochrone_tables/RGB_AGB_isochrone_table.csv', distance_modules=24.67, save_tables=True)"
   ]
  },
  {
   "cell_type": "code",
   "execution_count": null,
   "metadata": {},
   "outputs": [],
   "source": []
  }
 ],
 "metadata": {
  "kernelspec": {
   "display_name": "astrococnda3_10",
   "language": "python",
   "name": "python3"
  },
  "language_info": {
   "codemirror_mode": {
    "name": "ipython",
    "version": 3
   },
   "file_extension": ".py",
   "mimetype": "text/x-python",
   "name": "python",
   "nbconvert_exporter": "python",
   "pygments_lexer": "ipython3",
   "version": "3.9.5"
  }
 },
 "nbformat": 4,
 "nbformat_minor": 2
}
